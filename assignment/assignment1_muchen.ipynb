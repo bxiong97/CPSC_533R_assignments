{
 "cells": [
  {
   "cell_type": "markdown",
   "metadata": {},
   "source": [
    "# CPSC 533R Visual AI - Assignment 1"
   ]
  },
  {
   "cell_type": "code",
   "execution_count": 168,
   "metadata": {},
   "outputs": [],
   "source": [
    "# import standard PyTorch modules\n",
    "import torch\n",
    "import torch.nn as nn\n",
    "import torch.optim as optim\n",
    "\n",
    "# import torchvision module to handle image manipulation\n",
    "import torchvision\n",
    "import torchvision.transforms as transforms\n",
    "import matplotlib.pyplot as plt\n",
    "\n",
    "import random\n",
    "\n",
    "# Use standard FashionMNIST dataset\n",
    "def gray_to_color(x):\n",
    "    return x.repeat(3, 1, 1)"
   ]
  },
  {
   "cell_type": "code",
   "execution_count": 169,
   "metadata": {},
   "outputs": [],
   "source": [
    "from torchvision.models.resnet import BasicBlock, conv3x3, conv1x1\n",
    "class ResNet_compare(nn.Module):\n",
    "\n",
    "    def __init__(self, block, layers, num_classes=1000, zero_init_residual=False,\n",
    "                 groups=1, width_per_group=64, replace_stride_with_dilation=None,\n",
    "                 norm_layer=None):\n",
    "        super(ResNet_compare, self).__init__()\n",
    "        if norm_layer is None:\n",
    "            norm_layer = nn.BatchNorm2d\n",
    "        self._norm_layer = norm_layer\n",
    "\n",
    "        self.inplanes = 64\n",
    "        self.dilation = 1\n",
    "        if replace_stride_with_dilation is None:\n",
    "            # each element in the tuple indicates if we should replace\n",
    "            # the 2x2 stride with a dilated convolution instead\n",
    "            replace_stride_with_dilation = [False, False, False]\n",
    "        if len(replace_stride_with_dilation) != 3:\n",
    "            raise ValueError(\"replace_stride_with_dilation should be None \"\n",
    "                             \"or a 3-element tuple, got {}\".format(replace_stride_with_dilation))\n",
    "        self.groups = groups\n",
    "        self.base_width = width_per_group\n",
    "        self.conv1 = nn.Conv2d(6, self.inplanes, kernel_size=7, stride=2, padding=3,\n",
    "                               bias=False)\n",
    "        self.bn1 = norm_layer(self.inplanes)\n",
    "        self.relu = nn.ReLU(inplace=True)\n",
    "        self.maxpool = nn.MaxPool2d(kernel_size=3, stride=2, padding=1)\n",
    "        self.layer1 = self._make_layer(block, 64, layers[0])\n",
    "        self.layer2 = self._make_layer(block, 128, layers[1], stride=2,\n",
    "                                       dilate=replace_stride_with_dilation[0])\n",
    "        self.layer3 = self._make_layer(block, 256, layers[2], stride=2,\n",
    "                                       dilate=replace_stride_with_dilation[1])\n",
    "        self.layer4 = self._make_layer(block, 512, layers[3], stride=2,\n",
    "                                       dilate=replace_stride_with_dilation[2])\n",
    "        self.avgpool = nn.AdaptiveAvgPool2d((1, 1))\n",
    "        self.fc = nn.Linear(512 * block.expansion, num_classes)\n",
    "\n",
    "        for m in self.modules():\n",
    "            if isinstance(m, nn.Conv2d):\n",
    "                nn.init.kaiming_normal_(m.weight, mode='fan_out', nonlinearity='relu')\n",
    "            elif isinstance(m, (nn.BatchNorm2d, nn.GroupNorm)):\n",
    "                nn.init.constant_(m.weight, 1)\n",
    "                nn.init.constant_(m.bias, 0)\n",
    "\n",
    "        # Zero-initialize the last BN in each residual branch,\n",
    "        # so that the residual branch starts with zeros, and each residual block behaves like an identity.\n",
    "        # This improves the model by 0.2~0.3% according to https://arxiv.org/abs/1706.02677\n",
    "        if zero_init_residual:\n",
    "            for m in self.modules():\n",
    "                if isinstance(m, Bottleneck):\n",
    "                    nn.init.constant_(m.bn3.weight, 0)\n",
    "                elif isinstance(m, BasicBlock):\n",
    "                    nn.init.constant_(m.bn2.weight, 0)\n",
    "\n",
    "    def _make_layer(self, block, planes, blocks, stride=1, dilate=False):\n",
    "        norm_layer = self._norm_layer\n",
    "        downsample = None\n",
    "        previous_dilation = self.dilation\n",
    "        if dilate:\n",
    "            self.dilation *= stride\n",
    "            stride = 1\n",
    "        if stride != 1 or self.inplanes != planes * block.expansion:\n",
    "            downsample = nn.Sequential(\n",
    "                conv1x1(self.inplanes, planes * block.expansion, stride),\n",
    "                norm_layer(planes * block.expansion),\n",
    "            )\n",
    "\n",
    "        layers = []\n",
    "        layers.append(block(self.inplanes, planes, stride, downsample, self.groups,\n",
    "                            self.base_width, previous_dilation, norm_layer))\n",
    "        self.inplanes = planes * block.expansion\n",
    "        for _ in range(1, blocks):\n",
    "            layers.append(block(self.inplanes, planes, groups=self.groups,\n",
    "                                base_width=self.base_width, dilation=self.dilation,\n",
    "                                norm_layer=norm_layer))\n",
    "\n",
    "        return nn.Sequential(*layers)\n",
    "\n",
    "    def _forward_impl(self, x):\n",
    "        # See note [TorchScript super()]\n",
    "        x = self.conv1(x)\n",
    "        x = self.bn1(x)\n",
    "        x = self.relu(x)\n",
    "        x = self.maxpool(x)\n",
    "\n",
    "        x = self.layer1(x)\n",
    "        x = self.layer2(x)\n",
    "        x = self.layer3(x)\n",
    "        x = self.layer4(x)\n",
    "\n",
    "        x = self.avgpool(x)\n",
    "        x = torch.flatten(x, 1)\n",
    "        x = self.fc(x)\n",
    "\n",
    "        return x\n",
    "\n",
    "    def forward(self, x):\n",
    "        return self._forward_impl(x)\n",
    "    \n",
    "def _resnet(arch, block, layers, pretrained, progress, **kwargs):\n",
    "    model = ResNet_compare(block, layers, **kwargs)\n",
    "    if pretrained:\n",
    "        state_dict = load_state_dict_from_url(model_urls[arch],\n",
    "                                              progress=progress)\n",
    "        model.load_state_dict(state_dict)\n",
    "    return model\n",
    "\n",
    "\n",
    "def resnet18(pretrained=False, progress=True, **kwargs):\n",
    "    r\"\"\"ResNet-18 model from\n",
    "    `\"Deep Residual Learning for Image Recognition\" <https://arxiv.org/pdf/1512.03385.pdf>`_\n",
    "\n",
    "    Args:\n",
    "        pretrained (bool): If True, returns a model pre-trained on ImageNet\n",
    "        progress (bool): If True, displays a progress bar of the download to stderr\n",
    "    \"\"\"\n",
    "    return _resnet('resnet18', BasicBlock, [2, 2, 2, 2], pretrained, progress,\n",
    "                   **kwargs)"
   ]
  },
  {
   "cell_type": "markdown",
   "metadata": {},
   "source": [
    "## Assignment 1-3: Data handling"
   ]
  },
  {
   "cell_type": "code",
   "execution_count": 170,
   "metadata": {},
   "outputs": [],
   "source": [
    "class wrappedMinistDataset:\n",
    "    \n",
    "    def __init__(self, root, train, download, transform):\n",
    "        self.mnistDataset = torchvision.datasets.MNIST(\n",
    "                                root = root,\n",
    "                                train = train,\n",
    "                                download = download,\n",
    "                                transform = transform\n",
    "                            )\n",
    "        \n",
    "    def __getitem__(self, index):\n",
    "        img, label = self.mnistDataset.__getitem__(index)\n",
    "        return {\"img\": img, \"class\": label}\n",
    "    \n",
    "    def __len__(self):\n",
    "        return self.mnistDataset.__len__()\n",
    "\n",
    "class modelRes18(nn.Module):\n",
    "    def __init__(self, num_classes=10):\n",
    "        super(modelRes18, self).__init__()\n",
    "        self.backbone = torchvision.models.resnet18(num_classes=num_classes)\n",
    "    \n",
    "    def forward(self, input_dict):\n",
    "        tensor = input_dict[\"img\"]\n",
    "        preds = self.backbone(tensor)\n",
    "        return {\"class\": preds}\n",
    "\n",
    "def train_process(model, train_set, batch_size=32, cuda=True):\n",
    "    loader = torch.utils.data.DataLoader(train_set, batch_size = batch_size, num_workers=0)\n",
    "    iterator = iter(loader)\n",
    "    losses = []\n",
    "    if cuda:\n",
    "        model = model.cuda()\n",
    "    optimizer = optim.SGD(model.parameters(), lr=0.001)\n",
    "    for i in range(200): #range(len(loader)):\n",
    "        batch = next(iterator)\n",
    "        if cuda:\n",
    "            for k, v in batch.items():\n",
    "                batch[k] = v.cuda()\n",
    "        preds = model(batch)\n",
    "        loss = nn.functional.cross_entropy(preds[\"class\"], batch[\"class\"])\n",
    "\n",
    "        optimizer.zero_grad()\n",
    "        loss.backward()\n",
    "        optimizer.step()\n",
    "        losses.append(loss.item())\n",
    "        if i%20==0:\n",
    "            print(i,losses[-1])\n",
    "    plt.plot(losses)"
   ]
  },
  {
   "cell_type": "code",
   "execution_count": 171,
   "metadata": {
    "tags": []
   },
   "outputs": [
    {
     "name": "stdout",
     "output_type": "stream",
     "text": [
      "0 2.717665672302246\n",
      "20 1.9684969186782837\n",
      "40 1.5616523027420044\n",
      "60 1.3400455713272095\n",
      "80 0.9706578850746155\n",
      "100 0.9209251999855042\n",
      "120 0.8210173845291138\n",
      "140 0.9360882043838501\n",
      "160 0.665034830570221\n",
      "180 0.6170330047607422\n"
     ]
    },
    {
     "data": {
      "image/png": "[encoded data removed]",
      "text/plain": [
       "<Figure size 432x288 with 1 Axes>"
      ]
     },
     "metadata": {
      "needs_background": "light"
     },
     "output_type": "display_data"
    }
   ],
   "source": [
    "train_set = wrappedMinistDataset(\n",
    "    root = './DatasetMNIST',\n",
    "    train = True,\n",
    "    download = False ,\n",
    "    transform = transforms.Compose([\n",
    "        transforms.ToTensor(),\n",
    "        gray_to_color,\n",
    "    ])\n",
    ")\n",
    "model = modelRes18(num_classes=10).cuda()\n",
    "train_process(model, train_set)"
   ]
  },
  {
   "cell_type": "markdown",
   "metadata": {},
   "source": [
    "## Assignment4-10"
   ]
  },
  {
   "cell_type": "code",
   "execution_count": 153,
   "metadata": {},
   "outputs": [],
   "source": [
    "RANDOM_SEED = 503\n",
    "# Task 4 here\n",
    "class pairWiseMinistDataset:\n",
    "    def __init__(self, \n",
    "                 root, \n",
    "                 train, \n",
    "                 download, \n",
    "                 transform, \n",
    "                 random_seed=RANDOM_SEED, \n",
    "                 dataset_length=10000):\n",
    "        self.mnistDataset = torchvision.datasets.MNIST(\n",
    "                                root = root,\n",
    "                                train = train,\n",
    "                                download = download,\n",
    "                                transform = transform\n",
    "                            )\n",
    "        random.seed(random_seed)\n",
    "        self.dataset_length = dataset_length\n",
    "        self.mnist_size = self.mnistDataset.__len__()\n",
    "        self.index2pair = random.sample(range(self.mnist_size * self.mnist_size), dataset_length)\n",
    "        \n",
    "    def __getitem__(self, index):\n",
    "        pair_index = self.index2pair[index]\n",
    "        index1 = pair_index // self.mnist_size\n",
    "        index2 = pair_index % self.mnist_size\n",
    "        img1, label1 = self.mnistDataset.__getitem__(index1)\n",
    "        img2, label2 = self.mnistDataset.__getitem__(index2)\n",
    "        label = 1. if label1 == label2 else 0.\n",
    "        return {\"img1\": img1, \"img2\": img2, \"class\": label}\n",
    "    \n",
    "    def __len__(self):\n",
    "        return self.dataset_length\n",
    "\n",
    "# Task 5 here\n",
    "# (by muchen Li) Found out by expriment early fusion of the two images works much better than late fusion! Which makes perfectly sense!\n",
    "class pairWiseModelEarlyFusion(nn.Module):\n",
    "    def __init__(self, \n",
    "                 backbone = resnet18):\n",
    "        super(pairWiseModelEarlyFusion, self).__init__()\n",
    "        self.backbone = backbone(num_classes=1)\n",
    "    \n",
    "    def forward(self, input_dict):\n",
    "        img1 = input_dict[\"img1\"]\n",
    "        img2 = input_dict[\"img2\"]\n",
    "        cated_img = torch.cat([img1, img2], dim=1)\n",
    "        preds = self.backbone(cated_img)\n",
    "        preds = torch.sigmoid(preds).squeeze()\n",
    "        return {\"class\": preds}\n",
    "\n",
    "# class pairWiseModel(nn.Module):\n",
    "#     def __init__(self, \n",
    "#                  backbone = torchvision.models.resnet18, \n",
    "#                  num_embedding = 256):\n",
    "#         super(pairWiseModel, self).__init__()\n",
    "#         self.backbone = backbone(num_classes=num_embedding)\n",
    "#         self.classifier = nn.Linear(num_embedding*2, 1)\n",
    "    \n",
    "#     def forward(self, input_dict):\n",
    "#         img1 = input_dict[\"img1\"]\n",
    "#         img2 = input_dict[\"img2\"]\n",
    "#         feature_img1 = self.backbone(img1)\n",
    "#         feature_img2 = self.backbone(img2)\n",
    "#         stacked_feature = torch.cat([feature_img1, feature_img2], dim=1)\n",
    "#         preds = self.classifier(stacked_feature).squeeze()\n",
    "#         preds = torch.sigmoid(preds)\n",
    "#         return {\"class\": preds}"
   ]
  },
  {
   "cell_type": "code",
   "execution_count": 157,
   "metadata": {},
   "outputs": [],
   "source": [
    "LOG_CYCLE = 500\n",
    "VALIDATION_CYCLE = 2000\n",
    "MAX_EPOCH = 5\n",
    "MAX_ITER = 20000\n",
    "\n",
    "def to_cuda(d: dict):\n",
    "    for k, v in d.items():\n",
    "        d[k] = v.cuda()\n",
    "\n",
    "def get_accuracy(preds, gt):\n",
    "    logits = preds[\"class\"]\n",
    "    pred_label = torch.round(logits).int()\n",
    "    acc = (pred_label == gt).sum().float() * 1.0 / pred_label.shape[0]\n",
    "    return acc * 100\n",
    "\n",
    "def test(model, test_loader, cuda=True):\n",
    "    model.eval()\n",
    "    accs = []\n",
    "    for batch in test_loader:\n",
    "        if cuda:\n",
    "            to_cuda(batch)\n",
    "        preds = model(batch)\n",
    "        accs.append(get_accuracy(preds, batch[\"class\"]))\n",
    "        \n",
    "    # simply save the last batch for now\n",
    "    val_img_sample = {\"data\": batch, \"pred\": preds}\n",
    "    avg_acc = sum(accs) / len(accs)\n",
    "    model.train()\n",
    "    return avg_acc, val_img_sample\n",
    "\n",
    "# @Atabak: Can probably do vis in this function\n",
    "def train_and_test(model, train_set, val_set, test_set, batch_size=32, cuda=True):\n",
    "    train_loader = torch.utils.data.DataLoader(train_set, batch_size=batch_size, num_workers=0)\n",
    "    train_iter = iter(train_loader)\n",
    "    val_loader = torch.utils.data.DataLoader(val_set, batch_size=batch_size, num_workers=0)\n",
    "    val_iter = iter(val_loader)\n",
    "    test_loader = torch.utils.data.DataLoader(test_set, batch_size=batch_size, num_workers=0)\n",
    "    test_iter = iter(test_loader)\n",
    "\n",
    "    losses = []\n",
    "    val_accs = []\n",
    "    val_img_samples = []\n",
    "    train_img_samples = []\n",
    "    if cuda:\n",
    "        model = model.cuda()\n",
    "    # Chage to Adam for better performace\n",
    "    optimizer = optim.Adam(model.parameters(), lr=0.0001)\n",
    "    scheduler = optim.lr_scheduler.MultiStepLR(optimizer, milestones=[int(0.4*MAX_ITER),int(0.9*MAX_ITER)], gamma=0.1)\n",
    "    gs  =  0\n",
    "    for epoch in range(MAX_EPOCH):\n",
    "        for batch in train_loader:\n",
    "            # Preaparing Data \n",
    "            if cuda:\n",
    "                to_cuda(batch)\n",
    "            # Forward model\n",
    "            preds = model(batch)\n",
    "            # Task 6 here, more losses to be try out\n",
    "            loss = nn.functional.binary_cross_entropy(preds[\"class\"], batch[\"class\"].float())\n",
    "            # Backprop and Update Prams\n",
    "            optimizer.zero_grad()\n",
    "            loss.backward()\n",
    "            optimizer.step()\n",
    "            scheduler.step()    \n",
    "            \n",
    "            # Logging \n",
    "            losses.append(loss.item())\n",
    "            if gs % LOG_CYCLE == 0:\n",
    "                print(gs,losses[-1])\n",
    "        \n",
    "            if gs % VALIDATION_CYCLE == 0:\n",
    "                # Simply save the last batch for now\n",
    "                train_img_samples.append({\"data\": batch, \"pred\": preds})\n",
    "\n",
    "                # Taks7: DO Validation here\n",
    "                avg_acc, img_sample = test(model, val_loader, cuda=cuda)\n",
    "                val_accs.append(avg_acc.item())\n",
    "                val_img_samples.append(img_sample)\n",
    "                print(\"Validatoin acc: %.4f%%\" % (avg_acc))\n",
    "            gs += 1\n",
    "            if gs > MAX_ITER:\n",
    "                break\n",
    "    \n",
    "    test_acc, _ = test(model, test_loader)\n",
    "    print(\"Test acc: %.4f%%\" % (test_acc.item()))\n",
    "    \n",
    "    return {\"losses\": losses, \"val_accs\": val_accs, \"test_acc\": test_acc, \"train_img_samples\": train_img_samples, \"val_img_samples\": val_img_samples}\n",
    "    # Task 8,9,10 TODO: visualize here"
   ]
  },
  {
   "cell_type": "code",
   "execution_count": 158,
   "metadata": {},
   "outputs": [
    {
     "name": "stdout",
     "output_type": "stream",
     "text": [
      "0 0.653510570526123\n",
      "Validatoin acc: 66.5337%\n",
      "500 0.11654596030712128\n",
      "1000 0.1665705144405365\n",
      "1500 0.23230618238449097\n",
      "2000 0.10315291583538055\n",
      "Validatoin acc: 96.2282%\n",
      "2500 0.11888472735881805\n",
      "3000 0.06223839893937111\n",
      "3500 0.02218804508447647\n",
      "4000 0.029322177171707153\n",
      "Validatoin acc: 97.6677%\n",
      "4500 0.06652335077524185\n",
      "5000 0.012288282625377178\n",
      "5500 0.050827398896217346\n",
      "6000 0.012565042823553085\n",
      "Validatoin acc: 98.0956%\n",
      "6500 0.09729120880365372\n",
      "7000 0.024465858936309814\n",
      "7500 0.029868556186556816\n",
      "8000 0.012966391630470753\n",
      "Validatoin acc: 98.4895%\n",
      "8500 0.04089733213186264\n",
      "9000 0.13977807760238647\n",
      "9500 0.04270031303167343\n",
      "10000 0.053680695593357086\n",
      "Validatoin acc: 98.9973%\n",
      "10500 0.014516432769596577\n",
      "11000 0.020691145211458206\n",
      "11500 0.0019812234677374363\n",
      "12000 0.038020167499780655\n",
      "Validatoin acc: 99.0553%\n",
      "12500 0.039182934910058975\n",
      "13000 0.032980628311634064\n",
      "13500 0.018778227269649506\n",
      "14000 0.004535419400781393\n",
      "Validatoin acc: 99.1253%\n",
      "14500 0.06474459916353226\n",
      "15000 0.02152283303439617\n",
      "15500 0.0013948290143162012\n",
      "16000 0.019862812012434006\n",
      "Validatoin acc: 99.1373%\n",
      "16500 0.0039009745232760906\n",
      "17000 0.05602022632956505\n",
      "17500 0.02186482958495617\n",
      "18000 0.03567243367433548\n",
      "Validatoin acc: 99.2003%\n",
      "18500 0.02713664434850216\n",
      "19000 0.01294000819325447\n",
      "19500 0.004443327896296978\n",
      "20000 0.005353595595806837\n",
      "Validatoin acc: 99.2402%\n",
      "Test acc: 99.4629%\n"
     ]
    }
   ],
   "source": [
    "# Some settings for train val split\n",
    "full_set_length = 2000000\n",
    "test_set_length = 2000\n",
    "val_split = int(0.05 * full_set_length)\n",
    "train_split = full_set_length - val_split\n",
    "\n",
    "# Build full set and test set\n",
    "full_train_set = pairWiseMinistDataset(\n",
    "    root = './DatasetMNIST',\n",
    "    train = True,\n",
    "    download = False ,\n",
    "    transform = transforms.Compose([\n",
    "        transforms.ToTensor(),\n",
    "        gray_to_color,\n",
    "    ]),\n",
    "    random_seed=RANDOM_SEED, \n",
    "    dataset_length=full_set_length\n",
    ")\n",
    "test_set = pairWiseMinistDataset(\n",
    "    root = './DatasetMNIST',\n",
    "    train = False,\n",
    "    download = False ,\n",
    "    transform = transforms.Compose([\n",
    "        transforms.ToTensor(),\n",
    "        gray_to_color,\n",
    "    ]),\n",
    "    random_seed=RANDOM_SEED, \n",
    "    dataset_length=test_set_length\n",
    ")\n",
    "# Taks7 Split Validation subset\n",
    "train_set, val_set = torch.utils.data.random_split(full_train_set, [train_split, val_split], generator=torch.Generator().manual_seed(RANDOM_SEED))\n",
    "# build model\n",
    "# model = pairWiseModel(backbone=torchvision.models.resnet18, num_embedding=256)\n",
    "model = pairWiseModelEarlyFusion(backbone=resnet18)\n",
    "# train, val and test\n",
    "data_dict = train_and_test(model, \n",
    "                           train_set = train_set, \n",
    "                           val_set = val_set, \n",
    "                           test_set = test_set, \n",
    "                           batch_size = 64, \n",
    "                           cuda = True)"
   ]
  },
  {
   "cell_type": "code",
   "execution_count": 172,
   "metadata": {},
   "outputs": [],
   "source": [
    "train_img_samples = data_dict[\"train_img_samples\"]\n",
    "val_img_samples = data_dict[\"val_img_samples\"]\n",
    "vis_epoch = 6\n",
    "\n",
    "%matplotlib inline\n",
    "def show(img, row, col, i, fig):\n",
    "    npimg = img.numpy()\n",
    "    fig.add_subplot(row, col, i)\n",
    "    plt.imshow(np.transpose(npimg, (1,2,0)), interpolation='nearest')\n",
    "\n",
    "def vis_img(samples):\n",
    "    img1 = samples[\"data\"][\"img1\"].cpu()\n",
    "    img2 = samples[\"data\"][\"img2\"].cpu()\n",
    "    pred = torch.round(samples[\"pred\"][\"class\"]).cpu().int()\n",
    "    \n",
    "    width = 16\n",
    "    img1 = img1[:width]\n",
    "    img2 = img2[:width]\n",
    "    img1 = torchvision.utils.make_grid(img1, nrow=width)\n",
    "    img2 = torchvision.utils.make_grid(img2, nrow=width)\n",
    "    fig = plt.figure()\n",
    "    show(img1, 1, 1, 1, fig)\n",
    "    show(img2, 2, 1, 2, fig)\n",
    "    print(list(pred[:width].detach().numpy()))"
   ]
  },
  {
   "cell_type": "code",
   "execution_count": 173,
   "metadata": {},
   "outputs": [
    {
     "name": "stdout",
     "output_type": "stream",
     "text": [
      "[0, 0, 0, 0, 0, 0, 0, 0, 0, 0, 0, 0, 0, 0, 0, 0]\n"
     ]
    },
    {
     "data": {
      "image/png": "[encoded data removed]",
      "text/plain": [
       "<Figure size 432x288 with 2 Axes>"
      ]
     },
     "metadata": {
      "needs_background": "light"
     },
     "output_type": "display_data"
    }
   ],
   "source": [
    "vis_img(train_img_samples[vis_epoch])"
   ]
  },
  {
   "cell_type": "code",
   "execution_count": 174,
   "metadata": {},
   "outputs": [
    {
     "name": "stdout",
     "output_type": "stream",
     "text": [
      "[0, 0, 0, 0, 0, 0, 1, 0, 0, 0, 0, 0, 0, 0, 0, 0]\n"
     ]
    },
    {
     "data": {
      "image/png": "[encoded data removed]",
      "text/plain": [
       "<Figure size 432x288 with 2 Axes>"
      ]
     },
     "metadata": {
      "needs_background": "light"
     },
     "output_type": "display_data"
    }
   ],
   "source": [
    "vis_img(val_img_samples[vis_epoch])"
   ]
  },
  {
   "cell_type": "code",
   "execution_count": 162,
   "metadata": {},
   "outputs": [
    {
     "data": {
      "image/png": "[encoded data removed]",
      "text/plain": [
       "<Figure size 432x288 with 1 Axes>"
      ]
     },
     "metadata": {
      "needs_background": "light"
     },
     "output_type": "display_data"
    }
   ],
   "source": [
    "plt.plot(data_dict[\"losses\"])\n",
    "plt.xlabel(\"Iterations\")\n",
    "plt.ylabel(\"BCE loss\")\n",
    "plt.show()"
   ]
  },
  {
   "cell_type": "code",
   "execution_count": 163,
   "metadata": {},
   "outputs": [
    {
     "data": {
      "image/png": "[encoded data removed]",
      "text/plain": [
       "<Figure size 432x288 with 1 Axes>"
      ]
     },
     "metadata": {
      "needs_background": "light"
     },
     "output_type": "display_data"
    }
   ],
   "source": [
    "# Smoothed version\n",
    "def smooth(datas, window_size=100):\n",
    "    x = [datas[i:i+window_size] for i in range(len(datas)-window_size)]\n",
    "    x = [sum(tmp)/window_size for tmp in x]\n",
    "    return x\n",
    "plt.plot(smooth(data_dict[\"losses\"]))\n",
    "plt.xlabel(\"Iterations\")\n",
    "plt.ylabel(\"BCE loss\")\n",
    "plt.show()"
   ]
  },
  {
   "cell_type": "code",
   "execution_count": 167,
   "metadata": {},
   "outputs": [
    {
     "data": {
      "image/png": "[encoded data removed]",
      "text/plain": [
       "<Figure size 432x288 with 1 Axes>"
      ]
     },
     "metadata": {
      "needs_background": "light"
     },
     "output_type": "display_data"
    }
   ],
   "source": [
    "plt.axhline(data_dict[\"test_acc\"], color='r')\n",
    "plt.plot(data_dict[\"val_accs\"],  linestyle='--', marker='o', color='b')\n",
    "# plt.xticks(np.arange(MAX_EPOCH))\n",
    "# plt.yticks(np.arange(85, 100))\n",
    "plt.xlabel(\"Epoches\")\n",
    "plt.ylabel(\"Accuracy %\")\n",
    "plt.show()"
   ]
  }
 ],
 "metadata": {
  "kernelspec": {
   "display_name": "Python 3",
   "language": "python",
   "name": "python3"
  },
  "language_info": {
   "codemirror_mode": {
    "name": "ipython",
    "version": 3
   },
   "file_extension": ".py",
   "mimetype": "text/x-python",
   "name": "python",
   "nbconvert_exporter": "python",
   "pygments_lexer": "ipython3",
   "version": "3.7.9"
  }
 },
 "nbformat": 4,
 "nbformat_minor": 4
}
