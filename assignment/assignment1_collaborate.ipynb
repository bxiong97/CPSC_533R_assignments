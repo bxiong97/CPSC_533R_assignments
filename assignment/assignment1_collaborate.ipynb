{
 "cells": [
  {
   "cell_type": "markdown",
   "metadata": {},
   "source": [
    "# CPSC 533R Visual AI - Assignment 1"
   ]
  },
  {
   "cell_type": "code",
   "execution_count": 16,
   "metadata": {},
   "outputs": [],
   "source": [
    "# import standard PyTorch modules\n",
    "import torch\n",
    "import torch.nn as nn\n",
    "import torch.optim as optim\n",
    "\n",
    "# import torchvision module to handle image manipulation\n",
    "import torchvision\n",
    "import torchvision.transforms as transforms\n",
    "import matplotlib.pyplot as plt\n",
    "\n",
    "# Use standard FashionMNIST dataset\n",
    "def gray_to_color(x):\n",
    "    return x.repeat(3, 1, 1)"
   ]
  },
  {
   "cell_type": "markdown",
   "metadata": {},
   "source": [
    "## Assignment 1-3: Data handling"
   ]
  },
  {
   "cell_type": "code",
   "execution_count": 17,
   "metadata": {},
   "outputs": [],
   "source": [
    "class wrappedMinistDataset:\n",
    "    \n",
    "    def __init__(self, root, train, download, transform):\n",
    "        self.mnistDataset = torchvision.datasets.MNIST(\n",
    "                                root = root,\n",
    "                                train = train,\n",
    "                                download = download,\n",
    "                                transform = transform\n",
    "                            )\n",
    "        \n",
    "    def __getitem__(self, index):\n",
    "        img, label = self.mnistDataset.__getitem__(index)\n",
    "        return {\"img\": img, \"class\": label}\n",
    "    \n",
    "    def __len__(self):\n",
    "        return self.mnistDataset.__len__()\n",
    "\n",
    "class modelRes18(nn.Module):\n",
    "    def __init__(self, num_classes=10):\n",
    "        super(modelRes18, self).__init__()\n",
    "        self.backbone = torchvision.models.resnet18(num_classes=num_classes)\n",
    "    \n",
    "    def forward(self, input_dict):\n",
    "        tensor = input_dict[\"img\"]\n",
    "        preds = self.backbone(tensor)\n",
    "        return {\"class\": preds}\n",
    "\n",
    "def train_process(model, train_set, batch_size=32, cuda=True):\n",
    "    loader = torch.utils.data.DataLoader(train_set, batch_size = batch_size, num_workers=0)\n",
    "    iterator = iter(loader)\n",
    "    losses = []\n",
    "    if cuda:\n",
    "        model = model.cuda()\n",
    "    optimizer = optim.SGD(model.parameters(), lr=0.001)\n",
    "    for i in range(200): #range(len(loader)):\n",
    "        batch = next(iterator)\n",
    "        if cuda:\n",
    "            for k, v in batch.items():\n",
    "                batch[k] = v.cuda()\n",
    "        preds = model(batch)\n",
    "        loss = nn.functional.cross_entropy(preds[\"class\"], batch[\"class\"])\n",
    "\n",
    "        optimizer.zero_grad()\n",
    "        loss.backward()\n",
    "        optimizer.step()\n",
    "        losses.append(loss.item())\n",
    "        if i%20==0:\n",
    "            print(i,losses[-1])\n",
    "    plt.plot(losses)"
   ]
  },
  {
   "cell_type": "code",
   "execution_count": 18,
   "metadata": {
    "tags": []
   },
   "outputs": [
    {
     "name": "stdout",
     "output_type": "stream",
     "text": [
      "0 2.2914199829101562\n",
      "20 1.9509154558181763\n",
      "40 1.8185781240463257\n",
      "60 1.410296082496643\n",
      "80 1.1334707736968994\n",
      "100 0.9654350876808167\n",
      "120 0.8413479924201965\n",
      "140 0.8992843627929688\n",
      "160 0.801120936870575\n",
      "180 0.6232799291610718\n"
     ]
    },
    {
     "data": {
      "image/png": "[encoded data removed]",
      "text/plain": [
       "<Figure size 432x288 with 1 Axes>"
      ]
     },
     "metadata": {
      "needs_background": "light"
     },
     "output_type": "display_data"
    }
   ],
   "source": [
    "train_set = wrappedMinistDataset(\n",
    "    root = './DatasetMNIST',\n",
    "    train = True,\n",
    "    download = False ,\n",
    "    transform = transforms.Compose([\n",
    "        transforms.ToTensor(),\n",
    "        gray_to_color,\n",
    "    ])\n",
    ")\n",
    "model = modelRes18(num_classes=10).cuda()\n",
    "train_process(model, train_set)"
   ]
  },
  {
   "cell_type": "markdown",
   "metadata": {},
   "source": [
    "## Assignment4-10"
   ]
  },
  {
   "cell_type": "code",
   "execution_count": 22,
   "metadata": {},
   "outputs": [],
   "source": [
    "# Task 4 here\n",
    "class pairWiseMinistDataset:\n",
    "    def __init__(self, root, train, download, transform):\n",
    "        self.mnistDataset = torchvision.datasets.MNIST(\n",
    "                                root = root,\n",
    "                                train = train,\n",
    "                                download = download,\n",
    "                                transform = transform\n",
    "                            )\n",
    "        self.mnist_size = self.mnistDataset.__len__()\n",
    "        \n",
    "    def __getitem__(self, index):\n",
    "        index1 = index // self.mnist_size\n",
    "        index2 = index % self.mnist_size\n",
    "        img1, label1 = self.mnistDataset.__getitem__(index1)\n",
    "        img2, label2 = self.mnistDataset.__getitem__(index2)\n",
    "        label = 1. if label1 == label2 else 0.\n",
    "        return {\"img1\": img1, \"img2\": img2, \"class\": label}\n",
    "    \n",
    "    def __len__(self):\n",
    "        return self.mnist_size * self.mnist_size\n",
    "\n",
    "# Taks7 TODO:  Validation subset\n",
    "    \n",
    "# Task 5 here\n",
    "class pairWiseModel(nn.Module):\n",
    "    def __init__(self, backbone = torchvision.models.resnet18, num_embedding = 256):\n",
    "        super(pairWiseModel, self).__init__()\n",
    "        self.backbone = backbone(num_classes=num_embedding)\n",
    "        self.classifier = nn.Linear(num_embedding*2, 1)\n",
    "    \n",
    "    def forward(self, input_dict):\n",
    "        img1 = input_dict[\"img1\"]\n",
    "        img2 = input_dict[\"img2\"]\n",
    "        feature_img1 = self.backbone(img1)\n",
    "        feature_img2 = self.backbone(img2)\n",
    "        stacked_feature = torch.cat([feature_img1, feature_img2], dim=1)\n",
    "        preds = self.classifier(stacked_feature).squeeze()\n",
    "        return {\"class\": preds}"
   ]
  },
  {
   "cell_type": "code",
   "execution_count": 29,
   "metadata": {},
   "outputs": [],
   "source": [
    "LOG_CYCLE = 20\n",
    "VALIDATION_CYCLE = 50\n",
    "#Alright I'll check it out \n",
    "# @Atabak: Can probably do vis in this function\n",
    "def train_process_with_vis(model, train_set, val_set, batch_size=32, cuda=True):\n",
    "    train_loader = torch.utils.data.DataLoader(train_set, batch_size=batch_size, num_workers=0)\n",
    "    train_iter = iter(train_loader)\n",
    "    val_loader = torch.utils.data.DataLoader(val_set, batch_size=batch_size, num_workers=0)\n",
    "    val_iter = iter(val_loader)\n",
    "\n",
    "    losses = []\n",
    "    if cuda:\n",
    "        model = model.cuda()\n",
    "    optimizer = optim.SGD(model.parameters(), lr=0.001)\n",
    "    for i in range(200): #range(len(loader)):\n",
    "        # Training \n",
    "        # Preaparing Data\n",
    "        batch = next(train_iter)\n",
    "        if cuda:\n",
    "            for k, v in batch.items():\n",
    "                batch[k] = v.cuda()\n",
    "        # Forward model\n",
    "        preds = model(batch)\n",
    "        # Task 6 here, more losses to be try out\n",
    "        loss = nn.functional.binary_cross_entropy_with_logits(preds[\"class\"], batch[\"class\"])\n",
    "        # Backprop and Update Prams\n",
    "        optimizer.zero_grad()\n",
    "        loss.backward()\n",
    "        optimizer.step()\n",
    "        \n",
    "        # Logging \n",
    "        losses.append(loss.item())\n",
    "        if i % LOG_CYCLE == 0:\n",
    "            print(i,losses[-1])\n",
    "            \n",
    "        if i % VALIDATION_CYCLE == 0:\n",
    "            # Taks7 TODO:  DO Validation here\n",
    "            pass\n",
    "    \n",
    "    # Task 8,9,10 TODO: visualize here\n",
    "    plt.plot(losses)"
   ]
  },
  {
   "cell_type": "code",
   "execution_count": 30,
   "metadata": {},
   "outputs": [
    {
     "name": "stdout",
     "output_type": "stream",
     "text": [
      "0 0.6812441839720123\n",
      "20 0.504157499410212\n",
      "40 0.36866166605614126\n",
      "60 0.3066067195031792\n",
      "80 0.28405270774965174\n",
      "100 0.3415504446311388\n",
      "120 0.26483324138098396\n",
      "140 0.2105147840338759\n",
      "160 0.344395231542876\n",
      "180 0.2577346095495159\n"
     ]
    },
    {
     "data": {
      "image/png": "[encoded data removed]",
      "text/plain": [
       "<Figure size 432x288 with 1 Axes>"
      ]
     },
     "metadata": {
      "needs_background": "light"
     },
     "output_type": "display_data"
    }
   ],
   "source": [
    "train_set = pairWiseMinistDataset(\n",
    "    root = './DatasetMNIST',\n",
    "    train = True,\n",
    "    download = False ,\n",
    "    transform = transforms.Compose([\n",
    "        transforms.ToTensor(),\n",
    "        gray_to_color,\n",
    "    ])\n",
    ")\n",
    "test_set = pairWiseMinistDataset(\n",
    "    root = './DatasetMNIST',\n",
    "    train = False,\n",
    "    download = False ,\n",
    "    transform = transforms.Compose([\n",
    "        transforms.ToTensor(),\n",
    "        gray_to_color,\n",
    "    ])\n",
    ")\n",
    "# Task 7 TODO: validation set\n",
    "model = pairWiseModel(backbone=torchvision.models.resnet18, num_embedding=256)\n",
    "# @Atabak replace val_set=test_set here, just for convenience now\n",
    "train_process_with_vis(model, train_set, val_set=test_set, batch_size=64, cuda=True)"
   ]
  },
  {
   "cell_type": "code",
   "execution_count": null,
   "metadata": {},
   "outputs": [],
   "source": []
  }
 ],
 "metadata": {
  "kernelspec": {
   "display_name": "Python 3",
   "language": "python",
   "name": "python3"
  },
  "language_info": {
   "codemirror_mode": {
    "name": "ipython",
    "version": 3
   },
   "file_extension": ".py",
   "mimetype": "text/x-python",
   "name": "python",
   "nbconvert_exporter": "python",
   "pygments_lexer": "ipython3",
   "version": "3.7.9"
  }
 },
 "nbformat": 4,
 "nbformat_minor": 4
}