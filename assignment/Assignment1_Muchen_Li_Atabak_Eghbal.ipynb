{
  "nbformat": 4,
  "nbformat_minor": 0,
  "metadata": {
    "kernelspec": {
      "display_name": "Python 3",
      "language": "python",
      "name": "python3"
    },
    "language_info": {
      "codemirror_mode": {
        "name": "ipython",
        "version": 3
      },
      "file_extension": ".py",
      "mimetype": "text/x-python",
      "name": "python",
      "nbconvert_exporter": "python",
      "pygments_lexer": "ipython3",
      "version": "3.7.9"
    },
    "colab": {
      "name": "Assignment1_Muchen_Li_Atabak_Eghbal.ipynb",
      "provenance": [],
      "collapsed_sections": [
        "plmc0QIihD8x"
      ]
    },
    "accelerator": "GPU",
    "widgets": {
      "application/vnd.jupyter.widget-state+json": {
        "1b8bc5a6a6fc475b804b8eaed8c931ee": {
          "model_module": "@jupyter-widgets/controls",
          "model_name": "HBoxModel",
          "state": {
            "_view_name": "HBoxView",
            "_dom_classes": [],
            "_model_name": "HBoxModel",
            "_view_module": "@jupyter-widgets/controls",
            "_model_module_version": "1.5.0",
            "_view_count": null,
            "_view_module_version": "1.5.0",
            "box_style": "",
            "layout": "IPY_MODEL_2ab14ac14843432e8d24955f3a490af4",
            "_model_module": "@jupyter-widgets/controls",
            "children": [
              "IPY_MODEL_ad4e8a1f796f4ff49c3664a1eff90c3c",
              "IPY_MODEL_f26c0f76b46f43bb9ffed00b780341cb"
            ]
          }
        },
        "2ab14ac14843432e8d24955f3a490af4": {
          "model_module": "@jupyter-widgets/base",
          "model_name": "LayoutModel",
          "state": {
            "_view_name": "LayoutView",
            "grid_template_rows": null,
            "right": null,
            "justify_content": null,
            "_view_module": "@jupyter-widgets/base",
            "overflow": null,
            "_model_module_version": "1.2.0",
            "_view_count": null,
            "flex_flow": null,
            "width": null,
            "min_width": null,
            "border": null,
            "align_items": null,
            "bottom": null,
            "_model_module": "@jupyter-widgets/base",
            "top": null,
            "grid_column": null,
            "overflow_y": null,
            "overflow_x": null,
            "grid_auto_flow": null,
            "grid_area": null,
            "grid_template_columns": null,
            "flex": null,
            "_model_name": "LayoutModel",
            "justify_items": null,
            "grid_row": null,
            "max_height": null,
            "align_content": null,
            "visibility": null,
            "align_self": null,
            "height": null,
            "min_height": null,
            "padding": null,
            "grid_auto_rows": null,
            "grid_gap": null,
            "max_width": null,
            "order": null,
            "_view_module_version": "1.2.0",
            "grid_template_areas": null,
            "object_position": null,
            "object_fit": null,
            "grid_auto_columns": null,
            "margin": null,
            "display": null,
            "left": null
          }
        },
        "ad4e8a1f796f4ff49c3664a1eff90c3c": {
          "model_module": "@jupyter-widgets/controls",
          "model_name": "FloatProgressModel",
          "state": {
            "_view_name": "ProgressView",
            "style": "IPY_MODEL_a4b75084f97447d4bd27f47ebedee383",
            "_dom_classes": [],
            "description": "",
            "_model_name": "FloatProgressModel",
            "bar_style": "success",
            "max": 1,
            "_view_module": "@jupyter-widgets/controls",
            "_model_module_version": "1.5.0",
            "value": 1,
            "_view_count": null,
            "_view_module_version": "1.5.0",
            "orientation": "horizontal",
            "min": 0,
            "description_tooltip": null,
            "_model_module": "@jupyter-widgets/controls",
            "layout": "IPY_MODEL_73698e05134b478f8a8c52e55c5859b1"
          }
        },
        "f26c0f76b46f43bb9ffed00b780341cb": {
          "model_module": "@jupyter-widgets/controls",
          "model_name": "HTMLModel",
          "state": {
            "_view_name": "HTMLView",
            "style": "IPY_MODEL_147ab3872fcf47c3bd79a9e8a6735ee0",
            "_dom_classes": [],
            "description": "",
            "_model_name": "HTMLModel",
            "placeholder": "​",
            "_view_module": "@jupyter-widgets/controls",
            "_model_module_version": "1.5.0",
            "value": " 9920512/? [00:04&lt;00:00, 2298833.91it/s]",
            "_view_count": null,
            "_view_module_version": "1.5.0",
            "description_tooltip": null,
            "_model_module": "@jupyter-widgets/controls",
            "layout": "IPY_MODEL_d32fe5a2f121407cabc4aef9358b0ff4"
          }
        },
        "a4b75084f97447d4bd27f47ebedee383": {
          "model_module": "@jupyter-widgets/controls",
          "model_name": "ProgressStyleModel",
          "state": {
            "_view_name": "StyleView",
            "_model_name": "ProgressStyleModel",
            "description_width": "initial",
            "_view_module": "@jupyter-widgets/base",
            "_model_module_version": "1.5.0",
            "_view_count": null,
            "_view_module_version": "1.2.0",
            "bar_color": null,
            "_model_module": "@jupyter-widgets/controls"
          }
        },
        "73698e05134b478f8a8c52e55c5859b1": {
          "model_module": "@jupyter-widgets/base",
          "model_name": "LayoutModel",
          "state": {
            "_view_name": "LayoutView",
            "grid_template_rows": null,
            "right": null,
            "justify_content": null,
            "_view_module": "@jupyter-widgets/base",
            "overflow": null,
            "_model_module_version": "1.2.0",
            "_view_count": null,
            "flex_flow": null,
            "width": null,
            "min_width": null,
            "border": null,
            "align_items": null,
            "bottom": null,
            "_model_module": "@jupyter-widgets/base",
            "top": null,
            "grid_column": null,
            "overflow_y": null,
            "overflow_x": null,
            "grid_auto_flow": null,
            "grid_area": null,
            "grid_template_columns": null,
            "flex": null,
            "_model_name": "LayoutModel",
            "justify_items": null,
            "grid_row": null,
            "max_height": null,
            "align_content": null,
            "visibility": null,
            "align_self": null,
            "height": null,
            "min_height": null,
            "padding": null,
            "grid_auto_rows": null,
            "grid_gap": null,
            "max_width": null,
            "order": null,
            "_view_module_version": "1.2.0",
            "grid_template_areas": null,
            "object_position": null,
            "object_fit": null,
            "grid_auto_columns": null,
            "margin": null,
            "display": null,
            "left": null
          }
        },
        "147ab3872fcf47c3bd79a9e8a6735ee0": {
          "model_module": "@jupyter-widgets/controls",
          "model_name": "DescriptionStyleModel",
          "state": {
            "_view_name": "StyleView",
            "_model_name": "DescriptionStyleModel",
            "description_width": "",
            "_view_module": "@jupyter-widgets/base",
            "_model_module_version": "1.5.0",
            "_view_count": null,
            "_view_module_version": "1.2.0",
            "_model_module": "@jupyter-widgets/controls"
          }
        },
        "d32fe5a2f121407cabc4aef9358b0ff4": {
          "model_module": "@jupyter-widgets/base",
          "model_name": "LayoutModel",
          "state": {
            "_view_name": "LayoutView",
            "grid_template_rows": null,
            "right": null,
            "justify_content": null,
            "_view_module": "@jupyter-widgets/base",
            "overflow": null,
            "_model_module_version": "1.2.0",
            "_view_count": null,
            "flex_flow": null,
            "width": null,
            "min_width": null,
            "border": null,
            "align_items": null,
            "bottom": null,
            "_model_module": "@jupyter-widgets/base",
            "top": null,
            "grid_column": null,
            "overflow_y": null,
            "overflow_x": null,
            "grid_auto_flow": null,
            "grid_area": null,
            "grid_template_columns": null,
            "flex": null,
            "_model_name": "LayoutModel",
            "justify_items": null,
            "grid_row": null,
            "max_height": null,
            "align_content": null,
            "visibility": null,
            "align_self": null,
            "height": null,
            "min_height": null,
            "padding": null,
            "grid_auto_rows": null,
            "grid_gap": null,
            "max_width": null,
            "order": null,
            "_view_module_version": "1.2.0",
            "grid_template_areas": null,
            "object_position": null,
            "object_fit": null,
            "grid_auto_columns": null,
            "margin": null,
            "display": null,
            "left": null
          }
        },
        "a8f7d3fa791b48489e29e47ee65a3747": {
          "model_module": "@jupyter-widgets/controls",
          "model_name": "HBoxModel",
          "state": {
            "_view_name": "HBoxView",
            "_dom_classes": [],
            "_model_name": "HBoxModel",
            "_view_module": "@jupyter-widgets/controls",
            "_model_module_version": "1.5.0",
            "_view_count": null,
            "_view_module_version": "1.5.0",
            "box_style": "",
            "layout": "IPY_MODEL_f0fe908f3c5c4d3883d72be6b7a93f4d",
            "_model_module": "@jupyter-widgets/controls",
            "children": [
              "IPY_MODEL_19380c87eea5469ea02c16d7bbcbb29b",
              "IPY_MODEL_93b60e9ff8864f27b3753ca5c04d57a9"
            ]
          }
        },
        "f0fe908f3c5c4d3883d72be6b7a93f4d": {
          "model_module": "@jupyter-widgets/base",
          "model_name": "LayoutModel",
          "state": {
            "_view_name": "LayoutView",
            "grid_template_rows": null,
            "right": null,
            "justify_content": null,
            "_view_module": "@jupyter-widgets/base",
            "overflow": null,
            "_model_module_version": "1.2.0",
            "_view_count": null,
            "flex_flow": null,
            "width": null,
            "min_width": null,
            "border": null,
            "align_items": null,
            "bottom": null,
            "_model_module": "@jupyter-widgets/base",
            "top": null,
            "grid_column": null,
            "overflow_y": null,
            "overflow_x": null,
            "grid_auto_flow": null,
            "grid_area": null,
            "grid_template_columns": null,
            "flex": null,
            "_model_name": "LayoutModel",
            "justify_items": null,
            "grid_row": null,
            "max_height": null,
            "align_content": null,
            "visibility": null,
            "align_self": null,
            "height": null,
            "min_height": null,
            "padding": null,
            "grid_auto_rows": null,
            "grid_gap": null,
            "max_width": null,
            "order": null,
            "_view_module_version": "1.2.0",
            "grid_template_areas": null,
            "object_position": null,
            "object_fit": null,
            "grid_auto_columns": null,
            "margin": null,
            "display": null,
            "left": null
          }
        },
        "19380c87eea5469ea02c16d7bbcbb29b": {
          "model_module": "@jupyter-widgets/controls",
          "model_name": "FloatProgressModel",
          "state": {
            "_view_name": "ProgressView",
            "style": "IPY_MODEL_baffabe4a684421aab8d52e880f0aecd",
            "_dom_classes": [],
            "description": "",
            "_model_name": "FloatProgressModel",
            "bar_style": "info",
            "max": 1,
            "_view_module": "@jupyter-widgets/controls",
            "_model_module_version": "1.5.0",
            "value": 1,
            "_view_count": null,
            "_view_module_version": "1.5.0",
            "orientation": "horizontal",
            "min": 0,
            "description_tooltip": null,
            "_model_module": "@jupyter-widgets/controls",
            "layout": "IPY_MODEL_6e400132640a47ff8e3125a61ff3184e"
          }
        },
        "93b60e9ff8864f27b3753ca5c04d57a9": {
          "model_module": "@jupyter-widgets/controls",
          "model_name": "HTMLModel",
          "state": {
            "_view_name": "HTMLView",
            "style": "IPY_MODEL_2e4c6a27b2f64fb29dff2bec99c84121",
            "_dom_classes": [],
            "description": "",
            "_model_name": "HTMLModel",
            "placeholder": "​",
            "_view_module": "@jupyter-widgets/controls",
            "_model_module_version": "1.5.0",
            "value": " 32768/? [00:15&lt;00:00, 72445.19it/s]",
            "_view_count": null,
            "_view_module_version": "1.5.0",
            "description_tooltip": null,
            "_model_module": "@jupyter-widgets/controls",
            "layout": "IPY_MODEL_aecf7005fd6148b3937f215bb7a3e5f3"
          }
        },
        "baffabe4a684421aab8d52e880f0aecd": {
          "model_module": "@jupyter-widgets/controls",
          "model_name": "ProgressStyleModel",
          "state": {
            "_view_name": "StyleView",
            "_model_name": "ProgressStyleModel",
            "description_width": "initial",
            "_view_module": "@jupyter-widgets/base",
            "_model_module_version": "1.5.0",
            "_view_count": null,
            "_view_module_version": "1.2.0",
            "bar_color": null,
            "_model_module": "@jupyter-widgets/controls"
          }
        },
        "6e400132640a47ff8e3125a61ff3184e": {
          "model_module": "@jupyter-widgets/base",
          "model_name": "LayoutModel",
          "state": {
            "_view_name": "LayoutView",
            "grid_template_rows": null,
            "right": null,
            "justify_content": null,
            "_view_module": "@jupyter-widgets/base",
            "overflow": null,
            "_model_module_version": "1.2.0",
            "_view_count": null,
            "flex_flow": null,
            "width": null,
            "min_width": null,
            "border": null,
            "align_items": null,
            "bottom": null,
            "_model_module": "@jupyter-widgets/base",
            "top": null,
            "grid_column": null,
            "overflow_y": null,
            "overflow_x": null,
            "grid_auto_flow": null,
            "grid_area": null,
            "grid_template_columns": null,
            "flex": null,
            "_model_name": "LayoutModel",
            "justify_items": null,
            "grid_row": null,
            "max_height": null,
            "align_content": null,
            "visibility": null,
            "align_self": null,
            "height": null,
            "min_height": null,
            "padding": null,
            "grid_auto_rows": null,
            "grid_gap": null,
            "max_width": null,
            "order": null,
            "_view_module_version": "1.2.0",
            "grid_template_areas": null,
            "object_position": null,
            "object_fit": null,
            "grid_auto_columns": null,
            "margin": null,
            "display": null,
            "left": null
          }
        },
        "2e4c6a27b2f64fb29dff2bec99c84121": {
          "model_module": "@jupyter-widgets/controls",
          "model_name": "DescriptionStyleModel",
          "state": {
            "_view_name": "StyleView",
            "_model_name": "DescriptionStyleModel",
            "description_width": "",
            "_view_module": "@jupyter-widgets/base",
            "_model_module_version": "1.5.0",
            "_view_count": null,
            "_view_module_version": "1.2.0",
            "_model_module": "@jupyter-widgets/controls"
          }
        },
        "aecf7005fd6148b3937f215bb7a3e5f3": {
          "model_module": "@jupyter-widgets/base",
          "model_name": "LayoutModel",
          "state": {
            "_view_name": "LayoutView",
            "grid_template_rows": null,
            "right": null,
            "justify_content": null,
            "_view_module": "@jupyter-widgets/base",
            "overflow": null,
            "_model_module_version": "1.2.0",
            "_view_count": null,
            "flex_flow": null,
            "width": null,
            "min_width": null,
            "border": null,
            "align_items": null,
            "bottom": null,
            "_model_module": "@jupyter-widgets/base",
            "top": null,
            "grid_column": null,
            "overflow_y": null,
            "overflow_x": null,
            "grid_auto_flow": null,
            "grid_area": null,
            "grid_template_columns": null,
            "flex": null,
            "_model_name": "LayoutModel",
            "justify_items": null,
            "grid_row": null,
            "max_height": null,
            "align_content": null,
            "visibility": null,
            "align_self": null,
            "height": null,
            "min_height": null,
            "padding": null,
            "grid_auto_rows": null,
            "grid_gap": null,
            "max_width": null,
            "order": null,
            "_view_module_version": "1.2.0",
            "grid_template_areas": null,
            "object_position": null,
            "object_fit": null,
            "grid_auto_columns": null,
            "margin": null,
            "display": null,
            "left": null
          }
        },
        "f2e30504c806426ca99a3d40a4b3aa97": {
          "model_module": "@jupyter-widgets/controls",
          "model_name": "HBoxModel",
          "state": {
            "_view_name": "HBoxView",
            "_dom_classes": [],
            "_model_name": "HBoxModel",
            "_view_module": "@jupyter-widgets/controls",
            "_model_module_version": "1.5.0",
            "_view_count": null,
            "_view_module_version": "1.5.0",
            "box_style": "",
            "layout": "IPY_MODEL_5c3319c848ad4091b448decda4922feb",
            "_model_module": "@jupyter-widgets/controls",
            "children": [
              "IPY_MODEL_7608723ea3e54e899c19e4d8f4e7e6d2",
              "IPY_MODEL_59afd0f0528d49519903d085846bc24b"
            ]
          }
        },
        "5c3319c848ad4091b448decda4922feb": {
          "model_module": "@jupyter-widgets/base",
          "model_name": "LayoutModel",
          "state": {
            "_view_name": "LayoutView",
            "grid_template_rows": null,
            "right": null,
            "justify_content": null,
            "_view_module": "@jupyter-widgets/base",
            "overflow": null,
            "_model_module_version": "1.2.0",
            "_view_count": null,
            "flex_flow": null,
            "width": null,
            "min_width": null,
            "border": null,
            "align_items": null,
            "bottom": null,
            "_model_module": "@jupyter-widgets/base",
            "top": null,
            "grid_column": null,
            "overflow_y": null,
            "overflow_x": null,
            "grid_auto_flow": null,
            "grid_area": null,
            "grid_template_columns": null,
            "flex": null,
            "_model_name": "LayoutModel",
            "justify_items": null,
            "grid_row": null,
            "max_height": null,
            "align_content": null,
            "visibility": null,
            "align_self": null,
            "height": null,
            "min_height": null,
            "padding": null,
            "grid_auto_rows": null,
            "grid_gap": null,
            "max_width": null,
            "order": null,
            "_view_module_version": "1.2.0",
            "grid_template_areas": null,
            "object_position": null,
            "object_fit": null,
            "grid_auto_columns": null,
            "margin": null,
            "display": null,
            "left": null
          }
        },
        "7608723ea3e54e899c19e4d8f4e7e6d2": {
          "model_module": "@jupyter-widgets/controls",
          "model_name": "FloatProgressModel",
          "state": {
            "_view_name": "ProgressView",
            "style": "IPY_MODEL_8d31aed624c94955805b914305e7125c",
            "_dom_classes": [],
            "description": "",
            "_model_name": "FloatProgressModel",
            "bar_style": "success",
            "max": 1,
            "_view_module": "@jupyter-widgets/controls",
            "_model_module_version": "1.5.0",
            "value": 1,
            "_view_count": null,
            "_view_module_version": "1.5.0",
            "orientation": "horizontal",
            "min": 0,
            "description_tooltip": null,
            "_model_module": "@jupyter-widgets/controls",
            "layout": "IPY_MODEL_21e15cb2cfcc41dbbf47f7b40337ddda"
          }
        },
        "59afd0f0528d49519903d085846bc24b": {
          "model_module": "@jupyter-widgets/controls",
          "model_name": "HTMLModel",
          "state": {
            "_view_name": "HTMLView",
            "style": "IPY_MODEL_f3de5b43b574455eadd19ea336db9e93",
            "_dom_classes": [],
            "description": "",
            "_model_name": "HTMLModel",
            "placeholder": "​",
            "_view_module": "@jupyter-widgets/controls",
            "_model_module_version": "1.5.0",
            "value": " 1654784/? [00:02&lt;00:00, 623944.52it/s]",
            "_view_count": null,
            "_view_module_version": "1.5.0",
            "description_tooltip": null,
            "_model_module": "@jupyter-widgets/controls",
            "layout": "IPY_MODEL_4fdd57f34ea34f14ac4a7e1d302ee8a6"
          }
        },
        "8d31aed624c94955805b914305e7125c": {
          "model_module": "@jupyter-widgets/controls",
          "model_name": "ProgressStyleModel",
          "state": {
            "_view_name": "StyleView",
            "_model_name": "ProgressStyleModel",
            "description_width": "initial",
            "_view_module": "@jupyter-widgets/base",
            "_model_module_version": "1.5.0",
            "_view_count": null,
            "_view_module_version": "1.2.0",
            "bar_color": null,
            "_model_module": "@jupyter-widgets/controls"
          }
        },
        "21e15cb2cfcc41dbbf47f7b40337ddda": {
          "model_module": "@jupyter-widgets/base",
          "model_name": "LayoutModel",
          "state": {
            "_view_name": "LayoutView",
            "grid_template_rows": null,
            "right": null,
            "justify_content": null,
            "_view_module": "@jupyter-widgets/base",
            "overflow": null,
            "_model_module_version": "1.2.0",
            "_view_count": null,
            "flex_flow": null,
            "width": null,
            "min_width": null,
            "border": null,
            "align_items": null,
            "bottom": null,
            "_model_module": "@jupyter-widgets/base",
            "top": null,
            "grid_column": null,
            "overflow_y": null,
            "overflow_x": null,
            "grid_auto_flow": null,
            "grid_area": null,
            "grid_template_columns": null,
            "flex": null,
            "_model_name": "LayoutModel",
            "justify_items": null,
            "grid_row": null,
            "max_height": null,
            "align_content": null,
            "visibility": null,
            "align_self": null,
            "height": null,
            "min_height": null,
            "padding": null,
            "grid_auto_rows": null,
            "grid_gap": null,
            "max_width": null,
            "order": null,
            "_view_module_version": "1.2.0",
            "grid_template_areas": null,
            "object_position": null,
            "object_fit": null,
            "grid_auto_columns": null,
            "margin": null,
            "display": null,
            "left": null
          }
        },
        "f3de5b43b574455eadd19ea336db9e93": {
          "model_module": "@jupyter-widgets/controls",
          "model_name": "DescriptionStyleModel",
          "state": {
            "_view_name": "StyleView",
            "_model_name": "DescriptionStyleModel",
            "description_width": "",
            "_view_module": "@jupyter-widgets/base",
            "_model_module_version": "1.5.0",
            "_view_count": null,
            "_view_module_version": "1.2.0",
            "_model_module": "@jupyter-widgets/controls"
          }
        },
        "4fdd57f34ea34f14ac4a7e1d302ee8a6": {
          "model_module": "@jupyter-widgets/base",
          "model_name": "LayoutModel",
          "state": {
            "_view_name": "LayoutView",
            "grid_template_rows": null,
            "right": null,
            "justify_content": null,
            "_view_module": "@jupyter-widgets/base",
            "overflow": null,
            "_model_module_version": "1.2.0",
            "_view_count": null,
            "flex_flow": null,
            "width": null,
            "min_width": null,
            "border": null,
            "align_items": null,
            "bottom": null,
            "_model_module": "@jupyter-widgets/base",
            "top": null,
            "grid_column": null,
            "overflow_y": null,
            "overflow_x": null,
            "grid_auto_flow": null,
            "grid_area": null,
            "grid_template_columns": null,
            "flex": null,
            "_model_name": "LayoutModel",
            "justify_items": null,
            "grid_row": null,
            "max_height": null,
            "align_content": null,
            "visibility": null,
            "align_self": null,
            "height": null,
            "min_height": null,
            "padding": null,
            "grid_auto_rows": null,
            "grid_gap": null,
            "max_width": null,
            "order": null,
            "_view_module_version": "1.2.0",
            "grid_template_areas": null,
            "object_position": null,
            "object_fit": null,
            "grid_auto_columns": null,
            "margin": null,
            "display": null,
            "left": null
          }
        },
        "4e6949970d834d7fb1c674ae18a2e30a": {
          "model_module": "@jupyter-widgets/controls",
          "model_name": "HBoxModel",
          "state": {
            "_view_name": "HBoxView",
            "_dom_classes": [],
            "_model_name": "HBoxModel",
            "_view_module": "@jupyter-widgets/controls",
            "_model_module_version": "1.5.0",
            "_view_count": null,
            "_view_module_version": "1.5.0",
            "box_style": "",
            "layout": "IPY_MODEL_9f8c8c14ea354974a23874f7ac538359",
            "_model_module": "@jupyter-widgets/controls",
            "children": [
              "IPY_MODEL_d8bcdadcf9ff44d6a522ae555f587b08",
              "IPY_MODEL_ea457355283544989882c78997726e8c"
            ]
          }
        },
        "9f8c8c14ea354974a23874f7ac538359": {
          "model_module": "@jupyter-widgets/base",
          "model_name": "LayoutModel",
          "state": {
            "_view_name": "LayoutView",
            "grid_template_rows": null,
            "right": null,
            "justify_content": null,
            "_view_module": "@jupyter-widgets/base",
            "overflow": null,
            "_model_module_version": "1.2.0",
            "_view_count": null,
            "flex_flow": null,
            "width": null,
            "min_width": null,
            "border": null,
            "align_items": null,
            "bottom": null,
            "_model_module": "@jupyter-widgets/base",
            "top": null,
            "grid_column": null,
            "overflow_y": null,
            "overflow_x": null,
            "grid_auto_flow": null,
            "grid_area": null,
            "grid_template_columns": null,
            "flex": null,
            "_model_name": "LayoutModel",
            "justify_items": null,
            "grid_row": null,
            "max_height": null,
            "align_content": null,
            "visibility": null,
            "align_self": null,
            "height": null,
            "min_height": null,
            "padding": null,
            "grid_auto_rows": null,
            "grid_gap": null,
            "max_width": null,
            "order": null,
            "_view_module_version": "1.2.0",
            "grid_template_areas": null,
            "object_position": null,
            "object_fit": null,
            "grid_auto_columns": null,
            "margin": null,
            "display": null,
            "left": null
          }
        },
        "d8bcdadcf9ff44d6a522ae555f587b08": {
          "model_module": "@jupyter-widgets/controls",
          "model_name": "FloatProgressModel",
          "state": {
            "_view_name": "ProgressView",
            "style": "IPY_MODEL_361532f09e674402a146a59442ed75ac",
            "_dom_classes": [],
            "description": "",
            "_model_name": "FloatProgressModel",
            "bar_style": "success",
            "max": 1,
            "_view_module": "@jupyter-widgets/controls",
            "_model_module_version": "1.5.0",
            "value": 1,
            "_view_count": null,
            "_view_module_version": "1.5.0",
            "orientation": "horizontal",
            "min": 0,
            "description_tooltip": null,
            "_model_module": "@jupyter-widgets/controls",
            "layout": "IPY_MODEL_1942b678e8854da5aa1b38dc59485aef"
          }
        },
        "ea457355283544989882c78997726e8c": {
          "model_module": "@jupyter-widgets/controls",
          "model_name": "HTMLModel",
          "state": {
            "_view_name": "HTMLView",
            "style": "IPY_MODEL_fd7fd4f3b8d443d7ae9a353a2457f60d",
            "_dom_classes": [],
            "description": "",
            "_model_name": "HTMLModel",
            "placeholder": "​",
            "_view_module": "@jupyter-widgets/controls",
            "_model_module_version": "1.5.0",
            "value": " 8192/? [00:00&lt;00:00, 11484.78it/s]",
            "_view_count": null,
            "_view_module_version": "1.5.0",
            "description_tooltip": null,
            "_model_module": "@jupyter-widgets/controls",
            "layout": "IPY_MODEL_704df41d2edb453084cab280a1802246"
          }
        },
        "361532f09e674402a146a59442ed75ac": {
          "model_module": "@jupyter-widgets/controls",
          "model_name": "ProgressStyleModel",
          "state": {
            "_view_name": "StyleView",
            "_model_name": "ProgressStyleModel",
            "description_width": "initial",
            "_view_module": "@jupyter-widgets/base",
            "_model_module_version": "1.5.0",
            "_view_count": null,
            "_view_module_version": "1.2.0",
            "bar_color": null,
            "_model_module": "@jupyter-widgets/controls"
          }
        },
        "1942b678e8854da5aa1b38dc59485aef": {
          "model_module": "@jupyter-widgets/base",
          "model_name": "LayoutModel",
          "state": {
            "_view_name": "LayoutView",
            "grid_template_rows": null,
            "right": null,
            "justify_content": null,
            "_view_module": "@jupyter-widgets/base",
            "overflow": null,
            "_model_module_version": "1.2.0",
            "_view_count": null,
            "flex_flow": null,
            "width": null,
            "min_width": null,
            "border": null,
            "align_items": null,
            "bottom": null,
            "_model_module": "@jupyter-widgets/base",
            "top": null,
            "grid_column": null,
            "overflow_y": null,
            "overflow_x": null,
            "grid_auto_flow": null,
            "grid_area": null,
            "grid_template_columns": null,
            "flex": null,
            "_model_name": "LayoutModel",
            "justify_items": null,
            "grid_row": null,
            "max_height": null,
            "align_content": null,
            "visibility": null,
            "align_self": null,
            "height": null,
            "min_height": null,
            "padding": null,
            "grid_auto_rows": null,
            "grid_gap": null,
            "max_width": null,
            "order": null,
            "_view_module_version": "1.2.0",
            "grid_template_areas": null,
            "object_position": null,
            "object_fit": null,
            "grid_auto_columns": null,
            "margin": null,
            "display": null,
            "left": null
          }
        },
        "fd7fd4f3b8d443d7ae9a353a2457f60d": {
          "model_module": "@jupyter-widgets/controls",
          "model_name": "DescriptionStyleModel",
          "state": {
            "_view_name": "StyleView",
            "_model_name": "DescriptionStyleModel",
            "description_width": "",
            "_view_module": "@jupyter-widgets/base",
            "_model_module_version": "1.5.0",
            "_view_count": null,
            "_view_module_version": "1.2.0",
            "_model_module": "@jupyter-widgets/controls"
          }
        },
        "704df41d2edb453084cab280a1802246": {
          "model_module": "@jupyter-widgets/base",
          "model_name": "LayoutModel",
          "state": {
            "_view_name": "LayoutView",
            "grid_template_rows": null,
            "right": null,
            "justify_content": null,
            "_view_module": "@jupyter-widgets/base",
            "overflow": null,
            "_model_module_version": "1.2.0",
            "_view_count": null,
            "flex_flow": null,
            "width": null,
            "min_width": null,
            "border": null,
            "align_items": null,
            "bottom": null,
            "_model_module": "@jupyter-widgets/base",
            "top": null,
            "grid_column": null,
            "overflow_y": null,
            "overflow_x": null,
            "grid_auto_flow": null,
            "grid_area": null,
            "grid_template_columns": null,
            "flex": null,
            "_model_name": "LayoutModel",
            "justify_items": null,
            "grid_row": null,
            "max_height": null,
            "align_content": null,
            "visibility": null,
            "align_self": null,
            "height": null,
            "min_height": null,
            "padding": null,
            "grid_auto_rows": null,
            "grid_gap": null,
            "max_width": null,
            "order": null,
            "_view_module_version": "1.2.0",
            "grid_template_areas": null,
            "object_position": null,
            "object_fit": null,
            "grid_auto_columns": null,
            "margin": null,
            "display": null,
            "left": null
          }
        }
      }
    }
  },
  "cells": [
    {
      "cell_type": "markdown",
      "metadata": {
        "id": "AzO6VMKXhD8d",
        "colab_type": "text"
      },
      "source": [
        "# CPSC 533R Visual AI - Assignment 1\n",
        "\n",
        "---\n",
        "**Group 5**\n",
        "\n",
        "Muchen Li\n",
        "\n",
        "Atabak Eghbal\n",
        "\n",
        "\n",
        "---\n",
        "\n"
      ]
    },
    {
      "cell_type": "markdown",
      "metadata": {
        "id": "ThwJrxT6hcNR",
        "colab_type": "text"
      },
      "source": [
        "#Importing Necessary Libraries "
      ]
    },
    {
      "cell_type": "code",
      "metadata": {
        "id": "MxL3vouXhD8e",
        "colab_type": "code",
        "colab": {}
      },
      "source": [
        "# import standard PyTorch modules\n",
        "import torch\n",
        "import torch.nn as nn\n",
        "import torch.optim as optim\n",
        "\n",
        "# import torchvision module to handle image manipulation\n",
        "import torchvision\n",
        "import torchvision.transforms as transforms\n",
        "import matplotlib.pyplot as plt\n",
        "\n",
        "import random\n",
        "\n",
        "# Use standard FashionMNIST dataset\n",
        "def gray_to_color(x):\n",
        "    return x.repeat(3, 1, 1)"
      ],
      "execution_count": 1,
      "outputs": []
    },
    {
      "cell_type": "markdown",
      "metadata": {
        "id": "p1J2uTpAz0GU",
        "colab_type": "text"
      },
      "source": [
        "#A Minor Modification in The Resnet Library\n",
        "\n",
        "Changed the Conv2d input from 3 to 6 for the coupled image problem for conv1"
      ]
    },
    {
      "cell_type": "code",
      "metadata": {
        "id": "e0BzeRjqhD8k",
        "colab_type": "code",
        "colab": {}
      },
      "source": [
        "from torchvision.models.resnet import BasicBlock, conv3x3, conv1x1\n",
        "class ResNet_compare(nn.Module):\n",
        "\n",
        "    def __init__(self, block, layers, num_classes=1000, zero_init_residual=False,\n",
        "                 groups=1, width_per_group=64, replace_stride_with_dilation=None,\n",
        "                 norm_layer=None):\n",
        "        super(ResNet_compare, self).__init__()\n",
        "        if norm_layer is None:\n",
        "            norm_layer = nn.BatchNorm2d\n",
        "        self._norm_layer = norm_layer\n",
        "\n",
        "        self.inplanes = 64\n",
        "        self.dilation = 1\n",
        "        if replace_stride_with_dilation is None:\n",
        "            # each element in the tuple indicates if we should replace\n",
        "            # the 2x2 stride with a dilated convolution instead\n",
        "            replace_stride_with_dilation = [False, False, False]\n",
        "        if len(replace_stride_with_dilation) != 3:\n",
        "            raise ValueError(\"replace_stride_with_dilation should be None \"\n",
        "                             \"or a 3-element tuple, got {}\".format(replace_stride_with_dilation))\n",
        "        self.groups = groups\n",
        "        self.base_width = width_per_group\n",
        "        self.conv1 = nn.Conv2d(6, self.inplanes, kernel_size=7, stride=2, padding=3,\n",
        "                               bias=False)\n",
        "        self.bn1 = norm_layer(self.inplanes)\n",
        "        self.relu = nn.ReLU(inplace=True)\n",
        "        self.maxpool = nn.MaxPool2d(kernel_size=3, stride=2, padding=1)\n",
        "        self.layer1 = self._make_layer(block, 64, layers[0])\n",
        "        self.layer2 = self._make_layer(block, 128, layers[1], stride=2,\n",
        "                                       dilate=replace_stride_with_dilation[0])\n",
        "        self.layer3 = self._make_layer(block, 256, layers[2], stride=2,\n",
        "                                       dilate=replace_stride_with_dilation[1])\n",
        "        self.layer4 = self._make_layer(block, 512, layers[3], stride=2,\n",
        "                                       dilate=replace_stride_with_dilation[2])\n",
        "        self.avgpool = nn.AdaptiveAvgPool2d((1, 1))\n",
        "        self.fc = nn.Linear(512 * block.expansion, num_classes)\n",
        "\n",
        "        for m in self.modules():\n",
        "            if isinstance(m, nn.Conv2d):\n",
        "                nn.init.kaiming_normal_(m.weight, mode='fan_out', nonlinearity='relu')\n",
        "            elif isinstance(m, (nn.BatchNorm2d, nn.GroupNorm)):\n",
        "                nn.init.constant_(m.weight, 1)\n",
        "                nn.init.constant_(m.bias, 0)\n",
        "\n",
        "        # Zero-initialize the last BN in each residual branch,\n",
        "        # so that the residual branch starts with zeros, and each residual block behaves like an identity.\n",
        "        # This improves the model by 0.2~0.3% according to https://arxiv.org/abs/1706.02677\n",
        "        if zero_init_residual:\n",
        "            for m in self.modules():\n",
        "                if isinstance(m, Bottleneck):\n",
        "                    nn.init.constant_(m.bn3.weight, 0)\n",
        "                elif isinstance(m, BasicBlock):\n",
        "                    nn.init.constant_(m.bn2.weight, 0)\n",
        "\n",
        "    def _make_layer(self, block, planes, blocks, stride=1, dilate=False):\n",
        "        norm_layer = self._norm_layer\n",
        "        downsample = None\n",
        "        previous_dilation = self.dilation\n",
        "        if dilate:\n",
        "            self.dilation *= stride\n",
        "            stride = 1\n",
        "        if stride != 1 or self.inplanes != planes * block.expansion:\n",
        "            downsample = nn.Sequential(\n",
        "                conv1x1(self.inplanes, planes * block.expansion, stride),\n",
        "                norm_layer(planes * block.expansion),\n",
        "            )\n",
        "\n",
        "        layers = []\n",
        "        layers.append(block(self.inplanes, planes, stride, downsample, self.groups,\n",
        "                            self.base_width, previous_dilation, norm_layer))\n",
        "        self.inplanes = planes * block.expansion\n",
        "        for _ in range(1, blocks):\n",
        "            layers.append(block(self.inplanes, planes, groups=self.groups,\n",
        "                                base_width=self.base_width, dilation=self.dilation,\n",
        "                                norm_layer=norm_layer))\n",
        "\n",
        "        return nn.Sequential(*layers)\n",
        "\n",
        "    def _forward_impl(self, x):\n",
        "        # See note [TorchScript super()]\n",
        "        x = self.conv1(x)\n",
        "        x = self.bn1(x)\n",
        "        x = self.relu(x)\n",
        "        x = self.maxpool(x)\n",
        "\n",
        "        x = self.layer1(x)\n",
        "        x = self.layer2(x)\n",
        "        x = self.layer3(x)\n",
        "        x = self.layer4(x)\n",
        "\n",
        "        x = self.avgpool(x)\n",
        "        x = torch.flatten(x, 1)\n",
        "        x = self.fc(x)\n",
        "\n",
        "        return x\n",
        "\n",
        "    def forward(self, x):\n",
        "        return self._forward_impl(x)\n",
        "    \n",
        "def _resnet(arch, block, layers, pretrained, progress, **kwargs):\n",
        "    model = ResNet_compare(block, layers, **kwargs)\n",
        "    if pretrained:\n",
        "        state_dict = load_state_dict_from_url(model_urls[arch],\n",
        "                                              progress=progress)\n",
        "        model.load_state_dict(state_dict)\n",
        "    return model\n",
        "\n",
        "\n",
        "def resnet18(pretrained=False, progress=True, **kwargs):\n",
        "    r\"\"\"ResNet-18 model from\n",
        "    `\"Deep Residual Learning for Image Recognition\" <https://arxiv.org/pdf/1512.03385.pdf>`_\n",
        "\n",
        "    Args:\n",
        "        pretrained (bool): If True, returns a model pre-trained on ImageNet\n",
        "        progress (bool): If True, displays a progress bar of the download to stderr\n",
        "    \"\"\"\n",
        "    return _resnet('resnet18', BasicBlock, [2, 2, 2, 2], pretrained, progress,\n",
        "                   **kwargs)"
      ],
      "execution_count": 2,
      "outputs": []
    },
    {
      "cell_type": "markdown",
      "metadata": {
        "id": "uJ9iVmvUvQgK",
        "colab_type": "text"
      },
      "source": [
        "## Tasks 1-3 Data Handling"
      ]
    },
    {
      "cell_type": "code",
      "metadata": {
        "id": "F_MziZeFhD8o",
        "colab_type": "code",
        "colab": {}
      },
      "source": [
        "class wrappedMinistDataset:\n",
        "    \n",
        "    def __init__(self, root, train, download, transform):\n",
        "        self.mnistDataset = torchvision.datasets.MNIST(\n",
        "                                root = root,\n",
        "                                train = train,\n",
        "                                download = download,\n",
        "                                transform = transform\n",
        "                            )\n",
        "        \n",
        "    def __getitem__(self, index):\n",
        "        img, label = self.mnistDataset.__getitem__(index)\n",
        "        return {\"img\": img, \"class\": label}\n",
        "    \n",
        "    def __len__(self):\n",
        "        return self.mnistDataset.__len__()\n",
        "\n",
        "class modelRes18(nn.Module):\n",
        "    def __init__(self, num_classes=10):\n",
        "        super(modelRes18, self).__init__()\n",
        "        self.backbone = torchvision.models.resnet18(num_classes=num_classes)\n",
        "    \n",
        "    def forward(self, input_dict):\n",
        "        tensor = input_dict[\"img\"]\n",
        "        preds = self.backbone(tensor)\n",
        "        return {\"class\": preds}\n",
        "\n",
        "def train_process(model, train_set, batch_size=32, cuda=True):\n",
        "    loader = torch.utils.data.DataLoader(train_set, batch_size = batch_size, num_workers=0)\n",
        "    iterator = iter(loader)\n",
        "    losses = []\n",
        "    if cuda:\n",
        "        model = model.cuda()\n",
        "    optimizer = optim.SGD(model.parameters(), lr=0.001)\n",
        "    for i in range(200): #range(len(loader)):\n",
        "        batch = next(iterator)\n",
        "        if cuda:\n",
        "            for k, v in batch.items():\n",
        "                batch[k] = v.cuda()\n",
        "        preds = model(batch)\n",
        "        loss = nn.functional.cross_entropy(preds[\"class\"], batch[\"class\"])\n",
        "\n",
        "        optimizer.zero_grad()\n",
        "        loss.backward()\n",
        "        optimizer.step()\n",
        "        losses.append(loss.item())\n",
        "        if i%20==0:\n",
        "            print(i,losses[-1])\n",
        "    plt.plot(losses)"
      ],
      "execution_count": 3,
      "outputs": []
    },
    {
      "cell_type": "code",
      "metadata": {
        "tags": [],
        "id": "nBmAeiNxhD8r",
        "colab_type": "code",
        "colab": {
          "base_uri": "https://localhost:8080/",
          "height": 838,
          "referenced_widgets": [
            "1b8bc5a6a6fc475b804b8eaed8c931ee",
            "2ab14ac14843432e8d24955f3a490af4",
            "ad4e8a1f796f4ff49c3664a1eff90c3c",
            "f26c0f76b46f43bb9ffed00b780341cb",
            "a4b75084f97447d4bd27f47ebedee383",
            "73698e05134b478f8a8c52e55c5859b1",
            "147ab3872fcf47c3bd79a9e8a6735ee0",
            "d32fe5a2f121407cabc4aef9358b0ff4",
            "a8f7d3fa791b48489e29e47ee65a3747",
            "f0fe908f3c5c4d3883d72be6b7a93f4d",
            "19380c87eea5469ea02c16d7bbcbb29b",
            "93b60e9ff8864f27b3753ca5c04d57a9",
            "baffabe4a684421aab8d52e880f0aecd",
            "6e400132640a47ff8e3125a61ff3184e",
            "2e4c6a27b2f64fb29dff2bec99c84121",
            "aecf7005fd6148b3937f215bb7a3e5f3",
            "f2e30504c806426ca99a3d40a4b3aa97",
            "5c3319c848ad4091b448decda4922feb",
            "7608723ea3e54e899c19e4d8f4e7e6d2",
            "59afd0f0528d49519903d085846bc24b",
            "8d31aed624c94955805b914305e7125c",
            "21e15cb2cfcc41dbbf47f7b40337ddda",
            "f3de5b43b574455eadd19ea336db9e93",
            "4fdd57f34ea34f14ac4a7e1d302ee8a6",
            "4e6949970d834d7fb1c674ae18a2e30a",
            "9f8c8c14ea354974a23874f7ac538359",
            "d8bcdadcf9ff44d6a522ae555f587b08",
            "ea457355283544989882c78997726e8c",
            "361532f09e674402a146a59442ed75ac",
            "1942b678e8854da5aa1b38dc59485aef",
            "fd7fd4f3b8d443d7ae9a353a2457f60d",
            "704df41d2edb453084cab280a1802246"
          ]
        },
        "outputId": "d25bce8b-c428-4375-b3b3-216fcd06684f"
      },
      "source": [
        "train_set = wrappedMinistDataset(\n",
        "    root = './DatasetMNIST',\n",
        "    train = True,\n",
        "    download = True ,\n",
        "    transform = transforms.Compose([\n",
        "        transforms.ToTensor(),\n",
        "        gray_to_color,\n",
        "    ])\n",
        ")\n",
        "model = modelRes18(num_classes=10).cuda()\n",
        "train_process(model, train_set)"
      ],
      "execution_count": 4,
      "outputs": [
        {
          "output_type": "stream",
          "text": [
            "Downloading http://yann.lecun.com/exdb/mnist/train-images-idx3-ubyte.gz to ./DatasetMNIST/MNIST/raw/train-images-idx3-ubyte.gz\n"
          ],
          "name": "stdout"
        },
        {
          "output_type": "display_data",
          "data": {
            "application/vnd.jupyter.widget-view+json": {
              "model_id": "1b8bc5a6a6fc475b804b8eaed8c931ee",
              "version_minor": 0,
              "version_major": 2
            },
            "text/plain": [
              "HBox(children=(FloatProgress(value=1.0, bar_style='info', max=1.0), HTML(value='')))"
            ]
          },
          "metadata": {
            "tags": []
          }
        },
        {
          "output_type": "stream",
          "text": [
            "Extracting ./DatasetMNIST/MNIST/raw/train-images-idx3-ubyte.gz to ./DatasetMNIST/MNIST/raw\n",
            "Downloading http://yann.lecun.com/exdb/mnist/train-labels-idx1-ubyte.gz to ./DatasetMNIST/MNIST/raw/train-labels-idx1-ubyte.gz\n",
            "\n"
          ],
          "name": "stdout"
        },
        {
          "output_type": "display_data",
          "data": {
            "application/vnd.jupyter.widget-view+json": {
              "model_id": "a8f7d3fa791b48489e29e47ee65a3747",
              "version_minor": 0,
              "version_major": 2
            },
            "text/plain": [
              "HBox(children=(FloatProgress(value=1.0, bar_style='info', max=1.0), HTML(value='')))"
            ]
          },
          "metadata": {
            "tags": []
          }
        },
        {
          "output_type": "stream",
          "text": [
            "Extracting ./DatasetMNIST/MNIST/raw/train-labels-idx1-ubyte.gz to ./DatasetMNIST/MNIST/raw\n",
            "Downloading http://yann.lecun.com/exdb/mnist/t10k-images-idx3-ubyte.gz to ./DatasetMNIST/MNIST/raw/t10k-images-idx3-ubyte.gz\n"
          ],
          "name": "stdout"
        },
        {
          "output_type": "display_data",
          "data": {
            "application/vnd.jupyter.widget-view+json": {
              "model_id": "f2e30504c806426ca99a3d40a4b3aa97",
              "version_minor": 0,
              "version_major": 2
            },
            "text/plain": [
              "HBox(children=(FloatProgress(value=1.0, bar_style='info', max=1.0), HTML(value='')))"
            ]
          },
          "metadata": {
            "tags": []
          }
        },
        {
          "output_type": "stream",
          "text": [
            "Extracting ./DatasetMNIST/MNIST/raw/t10k-images-idx3-ubyte.gz to ./DatasetMNIST/MNIST/raw\n",
            "Downloading http://yann.lecun.com/exdb/mnist/t10k-labels-idx1-ubyte.gz to ./DatasetMNIST/MNIST/raw/t10k-labels-idx1-ubyte.gz\n"
          ],
          "name": "stdout"
        },
        {
          "output_type": "display_data",
          "data": {
            "application/vnd.jupyter.widget-view+json": {
              "model_id": "4e6949970d834d7fb1c674ae18a2e30a",
              "version_minor": 0,
              "version_major": 2
            },
            "text/plain": [
              "HBox(children=(FloatProgress(value=1.0, bar_style='info', max=1.0), HTML(value='')))"
            ]
          },
          "metadata": {
            "tags": []
          }
        },
        {
          "output_type": "stream",
          "text": [
            "Extracting ./DatasetMNIST/MNIST/raw/t10k-labels-idx1-ubyte.gz to ./DatasetMNIST/MNIST/raw\n",
            "Processing...\n",
            "Done!\n",
            "\n",
            "\n"
          ],
          "name": "stdout"
        },
        {
          "output_type": "stream",
          "text": [
            "/usr/local/lib/python3.6/dist-packages/torchvision/datasets/mnist.py:469: UserWarning: The given NumPy array is not writeable, and PyTorch does not support non-writeable tensors. This means you can write to the underlying (supposedly non-writeable) NumPy array using the tensor. You may want to copy the array to protect its data or make it writeable before converting it to a tensor. This type of warning will be suppressed for the rest of this program. (Triggered internally at  /pytorch/torch/csrc/utils/tensor_numpy.cpp:141.)\n",
            "  return torch.from_numpy(parsed.astype(m[2], copy=False)).view(*s)\n"
          ],
          "name": "stderr"
        },
        {
          "output_type": "stream",
          "text": [
            "0 2.6441378593444824\n",
            "20 1.9959341287612915\n",
            "40 1.7127513885498047\n",
            "60 1.2700623273849487\n",
            "80 1.0887272357940674\n",
            "100 0.8413546085357666\n",
            "120 0.8801267147064209\n",
            "140 0.9504836201667786\n",
            "160 0.6683540940284729\n",
            "180 0.599208414554596\n"
          ],
          "name": "stdout"
        },
        {
          "output_type": "display_data",
          "data": {
            "image/png": "[encoded data removed]",
            "text/plain": [
              "<Figure size 432x288 with 1 Axes>"
            ]
          },
          "metadata": {
            "tags": [],
            "needs_background": "light"
          }
        }
      ]
    },
    {
      "cell_type": "markdown",
      "metadata": {
        "id": "plmc0QIihD8x",
        "colab_type": "text"
      },
      "source": [
        "## Tasks 4-5"
      ]
    },
    {
      "cell_type": "code",
      "metadata": {
        "id": "LJEk8BfohD8x",
        "colab_type": "code",
        "colab": {}
      },
      "source": [
        "RANDOM_SEED = 503\n",
        "# Task 4 here\n",
        "class pairWiseMinistDataset:\n",
        "    def __init__(self, \n",
        "                 root, \n",
        "                 train, \n",
        "                 download, \n",
        "                 transform, \n",
        "                 random_seed=RANDOM_SEED, \n",
        "                 dataset_length=10000):\n",
        "        self.mnistDataset = torchvision.datasets.MNIST(\n",
        "                                root = root,\n",
        "                                train = train,\n",
        "                                download = download,\n",
        "                                transform = transform\n",
        "                            )\n",
        "        random.seed(random_seed)\n",
        "        self.dataset_length = dataset_length\n",
        "        self.mnist_size = self.mnistDataset.__len__()\n",
        "        self.index2pair = random.sample(range(self.mnist_size * self.mnist_size), dataset_length)\n",
        "        \n",
        "    def __getitem__(self, index):\n",
        "        pair_index = self.index2pair[index]\n",
        "        index1 = pair_index // self.mnist_size\n",
        "        index2 = pair_index % self.mnist_size\n",
        "        img1, label1 = self.mnistDataset.__getitem__(index1)\n",
        "        img2, label2 = self.mnistDataset.__getitem__(index2)\n",
        "        label = 1. if label1 == label2 else 0.\n",
        "        return {\"img1\": img1, \"img2\": img2, \"class\": label}\n",
        "    \n",
        "    def __len__(self):\n",
        "        return self.dataset_length\n",
        "\n",
        "# Task 5 here\n",
        "# Found out by expriment early fusion of the two images works much better than late fusion! Which makes perfectly sense!\n",
        "class pairWiseModelEarlyFusion(nn.Module):\n",
        "    def __init__(self, \n",
        "                 backbone = resnet18):\n",
        "        super(pairWiseModelEarlyFusion, self).__init__()\n",
        "        self.backbone = backbone(num_classes=1)\n",
        "    \n",
        "    def forward(self, input_dict):\n",
        "        img1 = input_dict[\"img1\"]\n",
        "        img2 = input_dict[\"img2\"]\n",
        "        cated_img = torch.cat([img1, img2], dim=1)\n",
        "        preds = self.backbone(cated_img)\n",
        "        preds = torch.sigmoid(preds).squeeze()\n",
        "        return {\"class\": preds}\n",
        "\n",
        "# class pairWiseModel(nn.Module):\n",
        "#     def __init__(self, \n",
        "#                  backbone = torchvision.models.resnet18, \n",
        "#                  num_embedding = 256):\n",
        "#         super(pairWiseModel, self).__init__()\n",
        "#         self.backbone = backbone(num_classes=num_embedding)\n",
        "#         self.classifier = nn.Linear(num_embedding*2, 1)\n",
        "    \n",
        "#     def forward(self, input_dict):\n",
        "#         img1 = input_dict[\"img1\"]\n",
        "#         img2 = input_dict[\"img2\"]\n",
        "#         feature_img1 = self.backbone(img1)\n",
        "#         feature_img2 = self.backbone(img2)\n",
        "#         stacked_feature = torch.cat([feature_img1, feature_img2], dim=1)\n",
        "#         preds = self.classifier(stacked_feature).squeeze()\n",
        "#         preds = torch.sigmoid(preds)\n",
        "#         return {\"class\": preds}"
      ],
      "execution_count": 5,
      "outputs": []
    },
    {
      "cell_type": "markdown",
      "metadata": {
        "id": "ndRGseGCzH7l",
        "colab_type": "text"
      },
      "source": [
        "##Task 6-7 "
      ]
    },
    {
      "cell_type": "code",
      "metadata": {
        "id": "yuk_VVPjhD82",
        "colab_type": "code",
        "colab": {}
      },
      "source": [
        "LOG_CYCLE = 500\n",
        "VALIDATION_CYCLE = 2000\n",
        "MAX_EPOCH = 5\n",
        "MAX_ITER = 20000\n",
        "\n",
        "def to_cuda(d: dict):\n",
        "    for k, v in d.items():\n",
        "        d[k] = v.cuda()\n",
        "\n",
        "def get_accuracy(preds, gt):\n",
        "    logits = preds[\"class\"]\n",
        "    pred_label = torch.round(logits).int()\n",
        "    acc = (pred_label == gt).sum().float() * 1.0 / pred_label.shape[0]\n",
        "    return acc * 100\n",
        "\n",
        "def test(model, test_loader, cuda=True):\n",
        "    model.eval()\n",
        "    accs = []\n",
        "    for batch in test_loader:\n",
        "        if cuda:\n",
        "            to_cuda(batch)\n",
        "        preds = model(batch)\n",
        "        accs.append(get_accuracy(preds, batch[\"class\"]))\n",
        "        \n",
        "    # simply save the last batch for now\n",
        "    val_img_sample = {\"data\": batch, \"pred\": preds}\n",
        "    avg_acc = sum(accs) / len(accs)\n",
        "    model.train()\n",
        "    return avg_acc, val_img_sample\n",
        "\n",
        "\n",
        "def train_and_test(model, train_set, val_set, test_set, batch_size=32, cuda=True):\n",
        "    train_loader = torch.utils.data.DataLoader(train_set, batch_size=batch_size, num_workers=0)\n",
        "    train_iter = iter(train_loader)\n",
        "    val_loader = torch.utils.data.DataLoader(val_set, batch_size=batch_size, num_workers=0)\n",
        "    val_iter = iter(val_loader)\n",
        "    test_loader = torch.utils.data.DataLoader(test_set, batch_size=batch_size, num_workers=0)\n",
        "    test_iter = iter(test_loader)\n",
        "\n",
        "    losses = []\n",
        "    val_accs = []\n",
        "    val_img_samples = []\n",
        "    train_img_samples = []\n",
        "    if cuda:\n",
        "        model = model.cuda()\n",
        "    # Chage to Adam for better performace\n",
        "    optimizer = optim.Adam(model.parameters(), lr=0.0001)\n",
        "    scheduler = optim.lr_scheduler.MultiStepLR(optimizer, milestones=[int(0.4*MAX_ITER),int(0.9*MAX_ITER)], gamma=0.1)\n",
        "    gs  =  0\n",
        "    for epoch in range(MAX_EPOCH):\n",
        "        for batch in train_loader:\n",
        "            # Preaparing Data \n",
        "            if cuda:\n",
        "                to_cuda(batch)\n",
        "            # Forward model\n",
        "            preds = model(batch)\n",
        "            # Task 6 here, more losses to be try out\n",
        "            loss = nn.functional.binary_cross_entropy(preds[\"class\"], batch[\"class\"].float())\n",
        "            # Backprop and Update Prams\n",
        "            optimizer.zero_grad()\n",
        "            loss.backward()\n",
        "            optimizer.step()\n",
        "            scheduler.step()    \n",
        "            \n",
        "            # Logging \n",
        "            losses.append(loss.item())\n",
        "            if gs % LOG_CYCLE == 0:\n",
        "                print(gs,losses[-1])\n",
        "        \n",
        "            if gs % VALIDATION_CYCLE == 0:\n",
        "                # Simply save the last batch for now\n",
        "                train_img_samples.append({\"data\": batch, \"pred\": preds})\n",
        "\n",
        "                # Taks7: DO Validation here\n",
        "                avg_acc, img_sample = test(model, val_loader, cuda=cuda)\n",
        "                val_accs.append(avg_acc.item())\n",
        "                val_img_samples.append(img_sample)\n",
        "                print(\"Validatoin acc: %.4f%%\" % (avg_acc))\n",
        "            gs += 1\n",
        "            if gs > MAX_ITER:\n",
        "                break\n",
        "    \n",
        "    test_acc, _ = test(model, test_loader)\n",
        "    print(\"Test acc: %.4f%%\" % (test_acc.item()))\n",
        "    \n",
        "    return {\"losses\": losses, \"val_accs\": val_accs, \"test_acc\": test_acc, \"train_img_samples\": train_img_samples, \"val_img_samples\": val_img_samples}\n",
        " "
      ],
      "execution_count": 6,
      "outputs": []
    },
    {
      "cell_type": "markdown",
      "metadata": {
        "id": "aDdNmTkc0AQn",
        "colab_type": "text"
      },
      "source": [
        "## Tasks6-7 Continued ---- Grabbing The Train+Test sets  ----  & ----   Splitting Train set to Train + Val  ----- & ----- Train!"
      ]
    },
    {
      "cell_type": "code",
      "metadata": {
        "id": "vB1TN0ubhD85",
        "colab_type": "code",
        "colab": {
          "base_uri": "https://localhost:8080/",
          "height": 918
        },
        "outputId": "83a0c989-6884-4d21-88e9-c2368a640b47"
      },
      "source": [
        "# Some settings for train val split\n",
        "full_set_length = 2000000\n",
        "test_set_length = 2000\n",
        "val_split = int(0.05 * full_set_length)\n",
        "train_split = full_set_length - val_split\n",
        "\n",
        "# Build full set and test set\n",
        "full_train_set = pairWiseMinistDataset(\n",
        "    root = './DatasetMNIST',\n",
        "    train = True,\n",
        "    download = False ,\n",
        "    transform = transforms.Compose([\n",
        "        transforms.ToTensor(),\n",
        "        gray_to_color,\n",
        "    ]),\n",
        "    random_seed=RANDOM_SEED, \n",
        "    dataset_length=full_set_length\n",
        ")\n",
        "test_set = pairWiseMinistDataset(\n",
        "    root = './DatasetMNIST',\n",
        "    train = False,\n",
        "    download = False ,\n",
        "    transform = transforms.Compose([\n",
        "        transforms.ToTensor(),\n",
        "        gray_to_color,\n",
        "    ]),\n",
        "    random_seed=RANDOM_SEED, \n",
        "    dataset_length=test_set_length\n",
        ")\n",
        "# Taks7 Split Validation subset\n",
        "train_set, val_set = torch.utils.data.random_split(full_train_set, [train_split, val_split], generator=torch.Generator().manual_seed(RANDOM_SEED))\n",
        "# build model\n",
        "# model = pairWiseModel(backbone=torchvision.models.resnet18, num_embedding=256)\n",
        "model = pairWiseModelEarlyFusion(backbone=resnet18)\n",
        "# train, val and test\n",
        "data_dict = train_and_test(model, \n",
        "                           train_set = train_set, \n",
        "                           val_set = val_set, \n",
        "                           test_set = test_set, \n",
        "                           batch_size = 64, \n",
        "                           cuda = True)"
      ],
      "execution_count": 7,
      "outputs": [
        {
          "output_type": "stream",
          "text": [
            "0 0.6835033297538757\n",
            "Validatoin acc: 84.7499%\n",
            "500 0.08800695091485977\n",
            "1000 0.1576116979122162\n",
            "1500 0.20044970512390137\n",
            "2000 0.09662950038909912\n",
            "Validatoin acc: 96.4371%\n",
            "2500 0.10354271531105042\n",
            "3000 0.11787807196378708\n",
            "3500 0.03595542162656784\n",
            "4000 0.09587112069129944\n",
            "Validatoin acc: 97.7117%\n",
            "4500 0.10281240195035934\n",
            "5000 0.025336356833577156\n",
            "5500 0.013227645307779312\n",
            "6000 0.023292748257517815\n",
            "Validatoin acc: 98.1946%\n",
            "6500 0.07116775214672089\n",
            "7000 0.019880089908838272\n",
            "7500 0.013707686215639114\n",
            "8000 0.013009581714868546\n",
            "Validatoin acc: 98.5375%\n",
            "8500 0.07247406244277954\n",
            "9000 0.10987130552530289\n",
            "9500 0.033893171697854996\n",
            "10000 0.010456535965204239\n",
            "Validatoin acc: 99.0253%\n",
            "10500 0.025508012622594833\n",
            "11000 0.005821182858198881\n",
            "11500 0.002450718078762293\n",
            "12000 0.02674269676208496\n",
            "Validatoin acc: 99.1103%\n",
            "12500 0.0714276060461998\n",
            "13000 0.07341901957988739\n",
            "13500 0.022550001740455627\n",
            "14000 0.007144097704440355\n",
            "Validatoin acc: 99.1533%\n",
            "14500 0.04877474159002304\n",
            "15000 0.011338837444782257\n",
            "15500 0.0032982106786221266\n",
            "16000 0.04067285731434822\n",
            "Validatoin acc: 99.1733%\n",
            "16500 0.00531106349080801\n",
            "17000 0.007038687355816364\n",
            "17500 0.029915980994701385\n",
            "18000 0.02753916196525097\n",
            "Validatoin acc: 99.2392%\n",
            "18500 0.022995512932538986\n",
            "19000 0.021625662222504616\n",
            "19500 0.0018787032458931208\n",
            "20000 0.004661533981561661\n",
            "Validatoin acc: 99.2872%\n",
            "Test acc: 99.4629%\n"
          ],
          "name": "stdout"
        }
      ]
    },
    {
      "cell_type": "markdown",
      "metadata": {
        "id": "duram1Si1UlV",
        "colab_type": "text"
      },
      "source": [
        "## Tasks 8-10 Visualization "
      ]
    },
    {
      "cell_type": "code",
      "metadata": {
        "id": "D9IL4Wf5hD89",
        "colab_type": "code",
        "colab": {}
      },
      "source": [
        "train_img_samples = data_dict[\"train_img_samples\"]\n",
        "val_img_samples = data_dict[\"val_img_samples\"]\n",
        "vis_epoch = 6\n",
        "import numpy as np\n",
        "%matplotlib inline\n",
        "def show(img, row, col, i, fig):\n",
        "    npimg = img.numpy()\n",
        "    fig.add_subplot(row, col, i)\n",
        "    plt.imshow(np.transpose(npimg, (1,2,0)), interpolation='nearest')\n",
        "\n",
        "def vis_img(samples):\n",
        "    img1 = samples[\"data\"][\"img1\"].cpu()\n",
        "    img2 = samples[\"data\"][\"img2\"].cpu()\n",
        "    pred = torch.round(samples[\"pred\"][\"class\"]).cpu().int()\n",
        "    \n",
        "    width = 16\n",
        "    img1 = img1[:width]\n",
        "    img2 = img2[:width]\n",
        "    img1 = torchvision.utils.make_grid(img1, nrow=width)\n",
        "    img2 = torchvision.utils.make_grid(img2, nrow=width)\n",
        "    fig = plt.figure()\n",
        "    show(img1, 1, 1, 1, fig)\n",
        "    show(img2, 2, 1, 2, fig)\n",
        "    print(list(pred[:width].detach().numpy()))"
      ],
      "execution_count": 10,
      "outputs": []
    },
    {
      "cell_type": "code",
      "metadata": {
        "id": "AfWatDVhhD9A",
        "colab_type": "code",
        "colab": {
          "base_uri": "https://localhost:8080/",
          "height": 150
        },
        "outputId": "e6f23a60-3530-4aa1-a6f3-996a497c6a53"
      },
      "source": [
        "vis_img(train_img_samples[vis_epoch])"
      ],
      "execution_count": 11,
      "outputs": [
        {
          "output_type": "stream",
          "text": [
            "[0, 0, 0, 0, 0, 0, 0, 0, 0, 0, 0, 0, 0, 0, 0, 0]\n"
          ],
          "name": "stdout"
        },
        {
          "output_type": "display_data",
          "data": {
            "image/png": "[encoded data removed]",
            "text/plain": [
              "<Figure size 432x288 with 2 Axes>"
            ]
          },
          "metadata": {
            "tags": [],
            "needs_background": "light"
          }
        }
      ]
    },
    {
      "cell_type": "code",
      "metadata": {
        "id": "hwIt_FmDhD9H",
        "colab_type": "code",
        "colab": {
          "base_uri": "https://localhost:8080/",
          "height": 150
        },
        "outputId": "0cf31b99-4f99-4904-8580-255f7c32b759"
      },
      "source": [
        "vis_img(val_img_samples[vis_epoch])"
      ],
      "execution_count": 12,
      "outputs": [
        {
          "output_type": "stream",
          "text": [
            "[0, 0, 0, 0, 0, 0, 1, 0, 0, 0, 0, 0, 0, 0, 0, 0]\n"
          ],
          "name": "stdout"
        },
        {
          "output_type": "display_data",
          "data": {
            "image/png": "[encoded data removed]",
            "text/plain": [
              "<Figure size 432x288 with 2 Axes>"
            ]
          },
          "metadata": {
            "tags": [],
            "needs_background": "light"
          }
        }
      ]
    },
    {
      "cell_type": "code",
      "metadata": {
        "id": "JnAFpuethD9K",
        "colab_type": "code",
        "colab": {
          "base_uri": "https://localhost:8080/",
          "height": 279
        },
        "outputId": "7ff166b1-a22f-43db-9a29-695b629f05b2"
      },
      "source": [
        "plt.plot(data_dict[\"losses\"])\n",
        "plt.xlabel(\"Iterations\")\n",
        "plt.ylabel(\"BCE loss\")\n",
        "plt.show()"
      ],
      "execution_count": 13,
      "outputs": [
        {
          "output_type": "display_data",
          "data": {
            "image/png": "[encoded data removed]",
            "text/plain": [
              "<Figure size 432x288 with 1 Axes>"
            ]
          },
          "metadata": {
            "tags": [],
            "needs_background": "light"
          }
        }
      ]
    },
    {
      "cell_type": "markdown",
      "metadata": {
        "id": "iHrthw-12MMH",
        "colab_type": "text"
      },
      "source": [
        "## Optional Add-ons"
      ]
    },
    {
      "cell_type": "markdown",
      "metadata": {
        "id": "3OEfUIylhD9O",
        "colab_type": "text"
      },
      "source": [
        "### Bonus 1   - Making the Plot Smooth "
      ]
    },
    {
      "cell_type": "code",
      "metadata": {
        "id": "TYGL743JhD9O",
        "colab_type": "code",
        "colab": {
          "base_uri": "https://localhost:8080/",
          "height": 283
        },
        "outputId": "b4badcf6-af71-4e6f-8c52-3069a30992c0"
      },
      "source": [
        "# Smoothed version\n",
        "def smooth(datas, window_size=100):\n",
        "    x = [datas[i:i+window_size] for i in range(len(datas)-window_size)]\n",
        "    x = [sum(tmp)/window_size for tmp in x]\n",
        "    return x\n",
        "plt.plot(smooth(data_dict[\"losses\"]))\n",
        "plt.xlabel(\"Iterations\")\n",
        "plt.ylabel(\"BCE loss\")\n",
        "plt.show()"
      ],
      "execution_count": 14,
      "outputs": [
        {
          "output_type": "display_data",
          "data": {
            "image/png": "[encoded data removed]",
            "text/plain": [
              "<Figure size 432x288 with 1 Axes>"
            ]
          },
          "metadata": {
            "tags": [],
            "needs_background": "light"
          }
        }
      ]
    },
    {
      "cell_type": "code",
      "metadata": {
        "id": "uWnoK9HQhD9R",
        "colab_type": "code",
        "colab": {
          "base_uri": "https://localhost:8080/",
          "height": 281
        },
        "outputId": "8b63906a-7e87-4305-8820-0c7c476f6949"
      },
      "source": [
        "plt.axhline(data_dict[\"test_acc\"], color='r')\n",
        "plt.plot(data_dict[\"val_accs\"],  linestyle='--', marker='o', color='b')\n",
        "# plt.xticks(np.arange(MAX_EPOCH))\n",
        "# plt.yticks(np.arange(85, 100))\n",
        "plt.xlabel(\"Epoches\")\n",
        "plt.ylabel(\"Accuracy %\")\n",
        "plt.show()"
      ],
      "execution_count": 15,
      "outputs": [
        {
          "output_type": "display_data",
          "data": {
            "image/png": "[encoded data removed]",
            "text/plain": [
              "<Figure size 432x288 with 1 Axes>"
            ]
          },
          "metadata": {
            "tags": [],
            "needs_background": "light"
          }
        }
      ]
    },
    {
      "cell_type": "markdown",
      "metadata": {
        "id": "i7qL7-1UhD9V",
        "colab_type": "text"
      },
      "source": [
        "### Bounus 2 --- The effect of Dictionaries on Computational Time"
      ]
    },
    {
      "cell_type": "code",
      "metadata": {
        "id": "-k93qqYUhD9V",
        "colab_type": "code",
        "colab": {
          "base_uri": "https://localhost:8080/",
          "height": 51
        },
        "outputId": "dda97a6f-ebc5-4e33-ed7c-099ff813fe1f"
      },
      "source": [
        "import time\n",
        "class wrappedMinistDatasetNoneDict:\n",
        "    \n",
        "    def __init__(self, root, train, download, transform):\n",
        "        self.mnistDataset = torchvision.datasets.MNIST(\n",
        "                                root = root,\n",
        "                                train = train,\n",
        "                                download = download,\n",
        "                                transform = transform\n",
        "                            )\n",
        "        \n",
        "    def __getitem__(self, index):\n",
        "        img, label = self.mnistDataset.__getitem__(index)\n",
        "        return img, label\n",
        "    \n",
        "    def __len__(self):\n",
        "        return self.mnistDataset.__len__()\n",
        "\n",
        "train_set = wrappedMinistDataset(\n",
        "    root = './DatasetMNIST',\n",
        "    train = True,\n",
        "    download = False ,\n",
        "    transform = transforms.Compose([\n",
        "        transforms.ToTensor(),\n",
        "        gray_to_color,\n",
        "    ])\n",
        ")\n",
        "train_loader_iter = iter(torch.utils.data.DataLoader(train_set, batch_size=32, num_workers=0))\n",
        "train_set_none_dict = wrappedMinistDataset(\n",
        "    root = './DatasetMNIST',\n",
        "    train = True,\n",
        "    download = False ,\n",
        "    transform = transforms.Compose([\n",
        "        transforms.ToTensor(),\n",
        "        gray_to_color,\n",
        "    ])\n",
        ")\n",
        "train_loader_none_dict_iter = iter(torch.utils.data.DataLoader(train_set_none_dict, batch_size=32, num_workers=0))\n",
        "\n",
        "t1 = time.perf_counter()\n",
        "for i in range(1000):\n",
        "    batch = next(train_loader_iter)\n",
        "t2 = time.perf_counter()\n",
        "\n",
        "t3 = time.perf_counter()\n",
        "for i in range(1000):\n",
        "    batch = next(train_loader_none_dict_iter)\n",
        "t4 = time.perf_counter()\n",
        "\n",
        "print(\"With dict: {}\".format(t2-t1))\n",
        "print(\"Without dict: {}\".format(t4-t3))"
      ],
      "execution_count": 16,
      "outputs": [
        {
          "output_type": "stream",
          "text": [
            "With dict: 2.448339216000022\n",
            "Without dict: 2.370802251999976\n"
          ],
          "name": "stdout"
        }
      ]
    },
    {
      "cell_type": "code",
      "metadata": {
        "id": "0CjojQzIhD9Y",
        "colab_type": "code",
        "colab": {}
      },
      "source": [
        ""
      ],
      "execution_count": null,
      "outputs": []
    }
  ]
}